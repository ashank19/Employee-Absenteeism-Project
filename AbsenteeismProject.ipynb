{
 "cells": [
  {
   "cell_type": "markdown",
   "metadata": {
    "colab_type": "text",
    "id": "V-i8qGA3Kow8"
   },
   "source": [
    "# Project on Absenteeism of employees at Work\n",
    "\n",
    "## Contents\n",
    "### Introduction\n",
    "### Data Preprocessing\n",
    "### Cleaning the data\n",
    "### Exploratory Analysis\n",
    "### Feature selection\n",
    "### Feature Scaling\n",
    "### Building the model"
   ]
  },
  {
   "cell_type": "markdown",
   "metadata": {
    "colab_type": "text",
    "id": "NL95GUV8Mx_t"
   },
   "source": [
    "# Introduction\n",
    "\n",
    "> XYZ is a courier company. As we appreciate that human capital plays an important role in collection, transportation and delivery. The company is passing through genuine issue of Absenteeism.\n",
    "> Dataset Characteristics: Timeseries Multivariant\n",
    "Number of Attributes: 21\n",
    "Missing Values : Yes\n",
    "\n",
    "> Attribute Information:\n",
    "1. Individual identification (ID)\n",
    "2. Reason for absence (ICD).\n",
    "Absences attested by the International Code of Diseases (ICD) stratified into 21\n",
    "categories (I to XXI) as follows:\n",
    "\n",
    "I Certain infectious and parasitic diseases\n",
    "\n",
    "II Neoplasms\n",
    "\n",
    "III Diseases of the blood and blood-forming organs and certain disorders involving the\n",
    "immune mechanism\n",
    "\n",
    "IV Endocrine, nutritional and metabolic diseases\n",
    "\n",
    "V Mental and behavioural disorders\n",
    "\n",
    "VI Diseases of the nervous system\n",
    "\n",
    "VII Diseases of the eye and adnexa\n",
    "\n",
    "VIII Diseases of the ear and mastoid process\n",
    "\n",
    "IX Diseases of the circulatory system\n",
    "\n",
    "X Diseases of the respiratory system\n",
    "\n",
    "XI Diseases of the digestive system\n",
    "\n",
    "\n",
    "XII Diseases of the skin and subcutaneous tissue\n",
    "\n",
    "XIII Diseases of the musculoskeletal system and connective tissue\n",
    "\n",
    "XIV Diseases of the genitourinary system\n",
    "\n",
    "XV Pregnancy, childbirth and the puerperium\n",
    "\n",
    "XVI Certain conditions originating in the perinatal period\n",
    "\n",
    "XVII Congenital malformations, deformations and chromosomal abnormalities\n",
    "\n",
    "XVIII Symptoms, signs and abnormal clinical and laboratory findings, not elsewhere classified\n",
    "\n",
    "XIX Injury, poisoning and certain other consequences of external causes\n",
    "\n",
    "XX External causes of morbidity and mortality\n",
    "\n",
    "XXI Factors influencing health status and contact with health services.\n",
    "\n",
    "And 7 categories without (CID) patient follow-up (22), medical consultation (23), blood\n",
    "donation (24), laboratory examination (25), unjustified absence (26), physiotherapy (27),\n",
    "dental consultation (28).\n",
    "3. Month of absence\n",
    "4. Day of the week (Monday (2), Tuesday (3), Wednesday (4), Thursday (5), Friday (6))\n",
    "5. Seasons (summer (1), autumn (2), winter (3), spring (4))\n",
    "6. Transportation expense\n",
    "7. Distance from Residence to Work (kilometers)\n",
    "8. Service time\n",
    "9. Age\n",
    "10. Work load Average/day\n",
    "11. Hit target\n",
    "12. Disciplinary failure (yes=1; no=0)\n",
    "13. Education (high school (1), graduate (2), postgraduate (3), master and doctor (4))\n",
    "14. Son (number of children)\n",
    "15. Social drinker (yes=1; no=0)\n",
    "16. Social smoker (yes=1; no=0)\n",
    "17. Pet (number of pet)\n",
    "18. Weight\n",
    "19. Height\n",
    "20. Body mass index\n",
    "21. Absenteeism time in hours (target)"
   ]
  },
  {
   "cell_type": "markdown",
   "metadata": {
    "colab_type": "text",
    "id": "293MqDo9OBDH"
   },
   "source": [
    "> Loaing the dataset in google colab for processing"
   ]
  },
  {
   "cell_type": "code",
   "execution_count": 1,
   "metadata": {
    "colab": {},
    "colab_type": "code",
    "id": "qAw62UB3uQ3u"
   },
   "outputs": [],
   "source": [
    "# Importing relevant libraries\n",
    "import numpy as np\n",
    "import pandas as pd\n",
    "import matplotlib.pyplot as plt\n",
    "import seaborn as sb\n",
    "%matplotlib inline"
   ]
  },
  {
   "cell_type": "code",
   "execution_count": 2,
   "metadata": {
    "colab": {},
    "colab_type": "code",
    "id": "Dlm3B5hpuT7Z"
   },
   "outputs": [],
   "source": [
    "# Reading the excel data into a pandas dataframe\n",
    "df=pd.read_excel('Absenteeism_at_work_Project.xls',sheet_name='Absenteeism_at_work')"
   ]
  },
  {
   "cell_type": "code",
   "execution_count": 3,
   "metadata": {
    "colab": {
     "base_uri": "https://localhost:8080/",
     "height": 459
    },
    "colab_type": "code",
    "id": "2GQ3qmrGubtO",
    "outputId": "a6983c57-6865-4d54-c5b8-9b13f3a2159e"
   },
   "outputs": [
    {
     "name": "stdout",
     "output_type": "stream",
     "text": [
      "<class 'pandas.core.frame.DataFrame'>\n",
      "RangeIndex: 740 entries, 0 to 739\n",
      "Data columns (total 21 columns):\n",
      "ID                                 740 non-null int64\n",
      "Reason for absence                 737 non-null float64\n",
      "Month of absence                   739 non-null float64\n",
      "Day of the week                    740 non-null int64\n",
      "Seasons                            740 non-null int64\n",
      "Transportation expense             733 non-null float64\n",
      "Distance from Residence to Work    737 non-null float64\n",
      "Service time                       737 non-null float64\n",
      "Age                                737 non-null float64\n",
      "Work load Average/day              730 non-null float64\n",
      "Hit target                         734 non-null float64\n",
      "Disciplinary failure               734 non-null float64\n",
      "Education                          730 non-null float64\n",
      "Son                                734 non-null float64\n",
      "Social drinker                     737 non-null float64\n",
      "Social smoker                      736 non-null float64\n",
      "Pet                                738 non-null float64\n",
      "Weight                             739 non-null float64\n",
      "Height                             726 non-null float64\n",
      "Body mass index                    709 non-null float64\n",
      "Absenteeism time in hours          718 non-null float64\n",
      "dtypes: float64(18), int64(3)\n",
      "memory usage: 121.5 KB\n"
     ]
    }
   ],
   "source": [
    "# Information of the columns\n",
    "df.info()"
   ]
  },
  {
   "cell_type": "code",
   "execution_count": 4,
   "metadata": {
    "colab": {},
    "colab_type": "code",
    "id": "cwATFpGdq09Q"
   },
   "outputs": [],
   "source": [
    "# Creating a copy of the dataset\n",
    "df_new=df.copy()"
   ]
  },
  {
   "cell_type": "code",
   "execution_count": 5,
   "metadata": {
    "colab": {
     "base_uri": "https://localhost:8080/",
     "height": 182
    },
    "colab_type": "code",
    "id": "axaleco7EfHb",
    "outputId": "aa57456c-cab5-4985-fdd1-37e98c0ef159"
   },
   "outputs": [
    {
     "data": {
      "text/html": [
       "<div>\n",
       "<style scoped>\n",
       "    .dataframe tbody tr th:only-of-type {\n",
       "        vertical-align: middle;\n",
       "    }\n",
       "\n",
       "    .dataframe tbody tr th {\n",
       "        vertical-align: top;\n",
       "    }\n",
       "\n",
       "    .dataframe thead th {\n",
       "        text-align: right;\n",
       "    }\n",
       "</style>\n",
       "<table border=\"1\" class=\"dataframe\">\n",
       "  <thead>\n",
       "    <tr style=\"text-align: right;\">\n",
       "      <th></th>\n",
       "      <th>ID</th>\n",
       "      <th>Reason for absence</th>\n",
       "      <th>Month of absence</th>\n",
       "      <th>Day of the week</th>\n",
       "      <th>Seasons</th>\n",
       "      <th>Transportation expense</th>\n",
       "      <th>Distance from Residence to Work</th>\n",
       "      <th>Service time</th>\n",
       "      <th>Age</th>\n",
       "      <th>Work load Average/day</th>\n",
       "      <th>...</th>\n",
       "      <th>Disciplinary failure</th>\n",
       "      <th>Education</th>\n",
       "      <th>Son</th>\n",
       "      <th>Social drinker</th>\n",
       "      <th>Social smoker</th>\n",
       "      <th>Pet</th>\n",
       "      <th>Weight</th>\n",
       "      <th>Height</th>\n",
       "      <th>Body mass index</th>\n",
       "      <th>Absenteeism time in hours</th>\n",
       "    </tr>\n",
       "  </thead>\n",
       "  <tbody>\n",
       "    <tr>\n",
       "      <th>0</th>\n",
       "      <td>11</td>\n",
       "      <td>26.0</td>\n",
       "      <td>7.0</td>\n",
       "      <td>3</td>\n",
       "      <td>1</td>\n",
       "      <td>289.0</td>\n",
       "      <td>36.0</td>\n",
       "      <td>13.0</td>\n",
       "      <td>33.0</td>\n",
       "      <td>239554.0</td>\n",
       "      <td>...</td>\n",
       "      <td>0.0</td>\n",
       "      <td>1.0</td>\n",
       "      <td>2.0</td>\n",
       "      <td>1.0</td>\n",
       "      <td>0.0</td>\n",
       "      <td>1.0</td>\n",
       "      <td>90.0</td>\n",
       "      <td>172.0</td>\n",
       "      <td>30.0</td>\n",
       "      <td>4.0</td>\n",
       "    </tr>\n",
       "    <tr>\n",
       "      <th>1</th>\n",
       "      <td>36</td>\n",
       "      <td>0.0</td>\n",
       "      <td>7.0</td>\n",
       "      <td>3</td>\n",
       "      <td>1</td>\n",
       "      <td>118.0</td>\n",
       "      <td>13.0</td>\n",
       "      <td>18.0</td>\n",
       "      <td>50.0</td>\n",
       "      <td>239554.0</td>\n",
       "      <td>...</td>\n",
       "      <td>1.0</td>\n",
       "      <td>1.0</td>\n",
       "      <td>1.0</td>\n",
       "      <td>1.0</td>\n",
       "      <td>0.0</td>\n",
       "      <td>0.0</td>\n",
       "      <td>98.0</td>\n",
       "      <td>178.0</td>\n",
       "      <td>31.0</td>\n",
       "      <td>0.0</td>\n",
       "    </tr>\n",
       "  </tbody>\n",
       "</table>\n",
       "<p>2 rows × 21 columns</p>\n",
       "</div>"
      ],
      "text/plain": [
       "   ID  Reason for absence  Month of absence  Day of the week  Seasons  \\\n",
       "0  11                26.0               7.0                3        1   \n",
       "1  36                 0.0               7.0                3        1   \n",
       "\n",
       "   Transportation expense  Distance from Residence to Work  Service time  \\\n",
       "0                   289.0                             36.0          13.0   \n",
       "1                   118.0                             13.0          18.0   \n",
       "\n",
       "    Age  Work load Average/day             ...              \\\n",
       "0  33.0                239554.0            ...               \n",
       "1  50.0                239554.0            ...               \n",
       "\n",
       "   Disciplinary failure  Education  Son  Social drinker  Social smoker  Pet  \\\n",
       "0                   0.0        1.0  2.0             1.0            0.0  1.0   \n",
       "1                   1.0        1.0  1.0             1.0            0.0  0.0   \n",
       "\n",
       "   Weight  Height  Body mass index  Absenteeism time in hours  \n",
       "0    90.0   172.0             30.0                        4.0  \n",
       "1    98.0   178.0             31.0                        0.0  \n",
       "\n",
       "[2 rows x 21 columns]"
      ]
     },
     "execution_count": 5,
     "metadata": {},
     "output_type": "execute_result"
    }
   ],
   "source": [
    "# First few lines of the dataframe\n",
    "df.head(2)"
   ]
  },
  {
   "cell_type": "code",
   "execution_count": 6,
   "metadata": {
    "colab": {
     "base_uri": "https://localhost:8080/",
     "height": 368
    },
    "colab_type": "code",
    "id": "QGIFbTU6uy02",
    "outputId": "b1ab647a-9aa9-4747-d489-11796edef16a"
   },
   "outputs": [
    {
     "data": {
      "text/html": [
       "<div>\n",
       "<style scoped>\n",
       "    .dataframe tbody tr th:only-of-type {\n",
       "        vertical-align: middle;\n",
       "    }\n",
       "\n",
       "    .dataframe tbody tr th {\n",
       "        vertical-align: top;\n",
       "    }\n",
       "\n",
       "    .dataframe thead th {\n",
       "        text-align: right;\n",
       "    }\n",
       "</style>\n",
       "<table border=\"1\" class=\"dataframe\">\n",
       "  <thead>\n",
       "    <tr style=\"text-align: right;\">\n",
       "      <th></th>\n",
       "      <th>ID</th>\n",
       "      <th>Reason for absence</th>\n",
       "      <th>Month of absence</th>\n",
       "      <th>Day of the week</th>\n",
       "      <th>Seasons</th>\n",
       "      <th>Transportation expense</th>\n",
       "      <th>Distance from Residence to Work</th>\n",
       "      <th>Service time</th>\n",
       "      <th>Age</th>\n",
       "      <th>Work load Average/day</th>\n",
       "      <th>...</th>\n",
       "      <th>Disciplinary failure</th>\n",
       "      <th>Education</th>\n",
       "      <th>Son</th>\n",
       "      <th>Social drinker</th>\n",
       "      <th>Social smoker</th>\n",
       "      <th>Pet</th>\n",
       "      <th>Weight</th>\n",
       "      <th>Height</th>\n",
       "      <th>Body mass index</th>\n",
       "      <th>Absenteeism time in hours</th>\n",
       "    </tr>\n",
       "  </thead>\n",
       "  <tbody>\n",
       "    <tr>\n",
       "      <th>count</th>\n",
       "      <td>740.000000</td>\n",
       "      <td>737.000000</td>\n",
       "      <td>739.000000</td>\n",
       "      <td>740.000000</td>\n",
       "      <td>740.000000</td>\n",
       "      <td>733.000000</td>\n",
       "      <td>737.000000</td>\n",
       "      <td>737.000000</td>\n",
       "      <td>737.000000</td>\n",
       "      <td>730.000000</td>\n",
       "      <td>...</td>\n",
       "      <td>734.000000</td>\n",
       "      <td>730.000000</td>\n",
       "      <td>734.000000</td>\n",
       "      <td>737.000000</td>\n",
       "      <td>736.000000</td>\n",
       "      <td>738.000000</td>\n",
       "      <td>739.000000</td>\n",
       "      <td>726.000000</td>\n",
       "      <td>709.000000</td>\n",
       "      <td>718.000000</td>\n",
       "    </tr>\n",
       "    <tr>\n",
       "      <th>mean</th>\n",
       "      <td>18.017568</td>\n",
       "      <td>19.188602</td>\n",
       "      <td>6.319350</td>\n",
       "      <td>3.914865</td>\n",
       "      <td>2.544595</td>\n",
       "      <td>221.035471</td>\n",
       "      <td>29.667571</td>\n",
       "      <td>12.565807</td>\n",
       "      <td>36.449118</td>\n",
       "      <td>271188.860274</td>\n",
       "      <td>...</td>\n",
       "      <td>0.053134</td>\n",
       "      <td>1.295890</td>\n",
       "      <td>1.017711</td>\n",
       "      <td>0.567164</td>\n",
       "      <td>0.073370</td>\n",
       "      <td>0.746612</td>\n",
       "      <td>79.063599</td>\n",
       "      <td>172.152893</td>\n",
       "      <td>26.684062</td>\n",
       "      <td>6.977716</td>\n",
       "    </tr>\n",
       "    <tr>\n",
       "      <th>std</th>\n",
       "      <td>11.021247</td>\n",
       "      <td>8.437493</td>\n",
       "      <td>3.435948</td>\n",
       "      <td>1.421675</td>\n",
       "      <td>1.111831</td>\n",
       "      <td>66.954179</td>\n",
       "      <td>14.848124</td>\n",
       "      <td>4.389813</td>\n",
       "      <td>6.480148</td>\n",
       "      <td>38981.880873</td>\n",
       "      <td>...</td>\n",
       "      <td>0.224453</td>\n",
       "      <td>0.676965</td>\n",
       "      <td>1.094928</td>\n",
       "      <td>0.495805</td>\n",
       "      <td>0.260919</td>\n",
       "      <td>1.319726</td>\n",
       "      <td>12.868630</td>\n",
       "      <td>6.081065</td>\n",
       "      <td>4.292819</td>\n",
       "      <td>13.476962</td>\n",
       "    </tr>\n",
       "    <tr>\n",
       "      <th>min</th>\n",
       "      <td>1.000000</td>\n",
       "      <td>0.000000</td>\n",
       "      <td>0.000000</td>\n",
       "      <td>2.000000</td>\n",
       "      <td>1.000000</td>\n",
       "      <td>118.000000</td>\n",
       "      <td>5.000000</td>\n",
       "      <td>1.000000</td>\n",
       "      <td>27.000000</td>\n",
       "      <td>205917.000000</td>\n",
       "      <td>...</td>\n",
       "      <td>0.000000</td>\n",
       "      <td>1.000000</td>\n",
       "      <td>0.000000</td>\n",
       "      <td>0.000000</td>\n",
       "      <td>0.000000</td>\n",
       "      <td>0.000000</td>\n",
       "      <td>56.000000</td>\n",
       "      <td>163.000000</td>\n",
       "      <td>19.000000</td>\n",
       "      <td>0.000000</td>\n",
       "    </tr>\n",
       "    <tr>\n",
       "      <th>25%</th>\n",
       "      <td>9.000000</td>\n",
       "      <td>13.000000</td>\n",
       "      <td>3.000000</td>\n",
       "      <td>3.000000</td>\n",
       "      <td>2.000000</td>\n",
       "      <td>179.000000</td>\n",
       "      <td>16.000000</td>\n",
       "      <td>9.000000</td>\n",
       "      <td>31.000000</td>\n",
       "      <td>244387.000000</td>\n",
       "      <td>...</td>\n",
       "      <td>0.000000</td>\n",
       "      <td>1.000000</td>\n",
       "      <td>0.000000</td>\n",
       "      <td>0.000000</td>\n",
       "      <td>0.000000</td>\n",
       "      <td>0.000000</td>\n",
       "      <td>69.000000</td>\n",
       "      <td>169.000000</td>\n",
       "      <td>24.000000</td>\n",
       "      <td>2.000000</td>\n",
       "    </tr>\n",
       "    <tr>\n",
       "      <th>50%</th>\n",
       "      <td>18.000000</td>\n",
       "      <td>23.000000</td>\n",
       "      <td>6.000000</td>\n",
       "      <td>4.000000</td>\n",
       "      <td>3.000000</td>\n",
       "      <td>225.000000</td>\n",
       "      <td>26.000000</td>\n",
       "      <td>13.000000</td>\n",
       "      <td>37.000000</td>\n",
       "      <td>264249.000000</td>\n",
       "      <td>...</td>\n",
       "      <td>0.000000</td>\n",
       "      <td>1.000000</td>\n",
       "      <td>1.000000</td>\n",
       "      <td>1.000000</td>\n",
       "      <td>0.000000</td>\n",
       "      <td>0.000000</td>\n",
       "      <td>83.000000</td>\n",
       "      <td>170.000000</td>\n",
       "      <td>25.000000</td>\n",
       "      <td>3.000000</td>\n",
       "    </tr>\n",
       "    <tr>\n",
       "      <th>75%</th>\n",
       "      <td>28.000000</td>\n",
       "      <td>26.000000</td>\n",
       "      <td>9.000000</td>\n",
       "      <td>5.000000</td>\n",
       "      <td>4.000000</td>\n",
       "      <td>260.000000</td>\n",
       "      <td>50.000000</td>\n",
       "      <td>16.000000</td>\n",
       "      <td>40.000000</td>\n",
       "      <td>284853.000000</td>\n",
       "      <td>...</td>\n",
       "      <td>0.000000</td>\n",
       "      <td>1.000000</td>\n",
       "      <td>2.000000</td>\n",
       "      <td>1.000000</td>\n",
       "      <td>0.000000</td>\n",
       "      <td>1.000000</td>\n",
       "      <td>89.000000</td>\n",
       "      <td>172.000000</td>\n",
       "      <td>31.000000</td>\n",
       "      <td>8.000000</td>\n",
       "    </tr>\n",
       "    <tr>\n",
       "      <th>max</th>\n",
       "      <td>36.000000</td>\n",
       "      <td>28.000000</td>\n",
       "      <td>12.000000</td>\n",
       "      <td>6.000000</td>\n",
       "      <td>4.000000</td>\n",
       "      <td>388.000000</td>\n",
       "      <td>52.000000</td>\n",
       "      <td>29.000000</td>\n",
       "      <td>58.000000</td>\n",
       "      <td>378884.000000</td>\n",
       "      <td>...</td>\n",
       "      <td>1.000000</td>\n",
       "      <td>4.000000</td>\n",
       "      <td>4.000000</td>\n",
       "      <td>1.000000</td>\n",
       "      <td>1.000000</td>\n",
       "      <td>8.000000</td>\n",
       "      <td>108.000000</td>\n",
       "      <td>196.000000</td>\n",
       "      <td>38.000000</td>\n",
       "      <td>120.000000</td>\n",
       "    </tr>\n",
       "  </tbody>\n",
       "</table>\n",
       "<p>8 rows × 21 columns</p>\n",
       "</div>"
      ],
      "text/plain": [
       "               ID  Reason for absence  Month of absence  Day of the week  \\\n",
       "count  740.000000          737.000000        739.000000       740.000000   \n",
       "mean    18.017568           19.188602          6.319350         3.914865   \n",
       "std     11.021247            8.437493          3.435948         1.421675   \n",
       "min      1.000000            0.000000          0.000000         2.000000   \n",
       "25%      9.000000           13.000000          3.000000         3.000000   \n",
       "50%     18.000000           23.000000          6.000000         4.000000   \n",
       "75%     28.000000           26.000000          9.000000         5.000000   \n",
       "max     36.000000           28.000000         12.000000         6.000000   \n",
       "\n",
       "          Seasons  Transportation expense  Distance from Residence to Work  \\\n",
       "count  740.000000              733.000000                       737.000000   \n",
       "mean     2.544595              221.035471                        29.667571   \n",
       "std      1.111831               66.954179                        14.848124   \n",
       "min      1.000000              118.000000                         5.000000   \n",
       "25%      2.000000              179.000000                        16.000000   \n",
       "50%      3.000000              225.000000                        26.000000   \n",
       "75%      4.000000              260.000000                        50.000000   \n",
       "max      4.000000              388.000000                        52.000000   \n",
       "\n",
       "       Service time         Age  Work load Average/day   \\\n",
       "count    737.000000  737.000000              730.000000   \n",
       "mean      12.565807   36.449118           271188.860274   \n",
       "std        4.389813    6.480148            38981.880873   \n",
       "min        1.000000   27.000000           205917.000000   \n",
       "25%        9.000000   31.000000           244387.000000   \n",
       "50%       13.000000   37.000000           264249.000000   \n",
       "75%       16.000000   40.000000           284853.000000   \n",
       "max       29.000000   58.000000           378884.000000   \n",
       "\n",
       "                 ...              Disciplinary failure   Education  \\\n",
       "count            ...                        734.000000  730.000000   \n",
       "mean             ...                          0.053134    1.295890   \n",
       "std              ...                          0.224453    0.676965   \n",
       "min              ...                          0.000000    1.000000   \n",
       "25%              ...                          0.000000    1.000000   \n",
       "50%              ...                          0.000000    1.000000   \n",
       "75%              ...                          0.000000    1.000000   \n",
       "max              ...                          1.000000    4.000000   \n",
       "\n",
       "              Son  Social drinker  Social smoker         Pet      Weight  \\\n",
       "count  734.000000      737.000000     736.000000  738.000000  739.000000   \n",
       "mean     1.017711        0.567164       0.073370    0.746612   79.063599   \n",
       "std      1.094928        0.495805       0.260919    1.319726   12.868630   \n",
       "min      0.000000        0.000000       0.000000    0.000000   56.000000   \n",
       "25%      0.000000        0.000000       0.000000    0.000000   69.000000   \n",
       "50%      1.000000        1.000000       0.000000    0.000000   83.000000   \n",
       "75%      2.000000        1.000000       0.000000    1.000000   89.000000   \n",
       "max      4.000000        1.000000       1.000000    8.000000  108.000000   \n",
       "\n",
       "           Height  Body mass index  Absenteeism time in hours  \n",
       "count  726.000000       709.000000                 718.000000  \n",
       "mean   172.152893        26.684062                   6.977716  \n",
       "std      6.081065         4.292819                  13.476962  \n",
       "min    163.000000        19.000000                   0.000000  \n",
       "25%    169.000000        24.000000                   2.000000  \n",
       "50%    170.000000        25.000000                   3.000000  \n",
       "75%    172.000000        31.000000                   8.000000  \n",
       "max    196.000000        38.000000                 120.000000  \n",
       "\n",
       "[8 rows x 21 columns]"
      ]
     },
     "execution_count": 6,
     "metadata": {},
     "output_type": "execute_result"
    }
   ],
   "source": [
    "# Descriptive statistics of the dataset\n",
    "df.describe()"
   ]
  },
  {
   "cell_type": "markdown",
   "metadata": {
    "colab_type": "text",
    "id": "B6NHK43cOxMC"
   },
   "source": [
    "## Data Pre-processing"
   ]
  },
  {
   "cell_type": "code",
   "execution_count": 7,
   "metadata": {
    "colab": {},
    "colab_type": "code",
    "id": "ExpywX8du50b"
   },
   "outputs": [],
   "source": [
    "# Function for imputation using mean value.\n",
    "def mean(t,j):\n",
    "    z=t\n",
    "    z.iloc[0,j]=np.NaN\n",
    "    z=z.iloc[:,j].fillna(z.iloc[:,j].mean())\n",
    "    return(z[0])"
   ]
  },
  {
   "cell_type": "code",
   "execution_count": 8,
   "metadata": {
    "colab": {},
    "colab_type": "code",
    "id": "kjHuZfX6vAMM"
   },
   "outputs": [],
   "source": [
    "# Function for imputation using median value.\n",
    "def median(t,j):\n",
    "    z=t\n",
    "    z.iloc[0,j]=np.NaN\n",
    "    z=z.iloc[:,j].fillna(z.iloc[:,j].median())\n",
    "    return(z[0])"
   ]
  },
  {
   "cell_type": "code",
   "execution_count": 9,
   "metadata": {
    "colab": {},
    "colab_type": "code",
    "id": "aO0_ktgBvC8-"
   },
   "outputs": [],
   "source": [
    "# Function for imputing the missing values.\n",
    "# Here we have first stored a non null value of a particular column stored it in a separate variable and replaced it in the dataframe with nan.\n",
    "# Then we have imputed the missing value using the mean and median and depending upon which method imputes the value closes to the actual value is used for imputing the missing values in the dataset.\n",
    "def impute(t):\n",
    "    for j in range(1,21):\n",
    "            if(sum(t.iloc[:,j].isnull())!=0):\n",
    "                p=mean(t,j)\n",
    "                q=median(t,j)\n",
    "                if(abs(p-t.iloc[0,j]) < abs(q-t.iloc[0,j])):\n",
    "                    t.iloc[:,j]=t.iloc[:,j].fillna(t.iloc[:,j].mean())\n",
    "                else:\n",
    "                    t.iloc[:,j]=t.iloc[:,j].fillna(t.iloc[:,j].median())\n",
    "            else:\n",
    "                continue\n",
    "    return(t)      \n"
   ]
  },
  {
   "cell_type": "code",
   "execution_count": 10,
   "metadata": {
    "colab": {},
    "colab_type": "code",
    "id": "gNQMmq8uvFjC"
   },
   "outputs": [],
   "source": [
    "\n",
    "# Storing the imputed dataframe in a new variable\n",
    "df1=impute(df)"
   ]
  },
  {
   "cell_type": "code",
   "execution_count": 11,
   "metadata": {
    "colab": {
     "base_uri": "https://localhost:8080/",
     "height": 459
    },
    "colab_type": "code",
    "id": "YQTAZ1GoqVRP",
    "outputId": "0ddce83c-cd73-4a49-97c5-2aea4b7de481"
   },
   "outputs": [
    {
     "name": "stdout",
     "output_type": "stream",
     "text": [
      "<class 'pandas.core.frame.DataFrame'>\n",
      "RangeIndex: 740 entries, 0 to 739\n",
      "Data columns (total 21 columns):\n",
      "ID                                 740 non-null int64\n",
      "Reason for absence                 740 non-null float64\n",
      "Month of absence                   740 non-null float64\n",
      "Day of the week                    740 non-null int64\n",
      "Seasons                            740 non-null int64\n",
      "Transportation expense             740 non-null float64\n",
      "Distance from Residence to Work    740 non-null float64\n",
      "Service time                       740 non-null float64\n",
      "Age                                740 non-null float64\n",
      "Work load Average/day              740 non-null float64\n",
      "Hit target                         740 non-null float64\n",
      "Disciplinary failure               740 non-null float64\n",
      "Education                          740 non-null float64\n",
      "Son                                740 non-null float64\n",
      "Social drinker                     740 non-null float64\n",
      "Social smoker                      740 non-null float64\n",
      "Pet                                740 non-null float64\n",
      "Weight                             740 non-null float64\n",
      "Height                             740 non-null float64\n",
      "Body mass index                    740 non-null float64\n",
      "Absenteeism time in hours          740 non-null float64\n",
      "dtypes: float64(18), int64(3)\n",
      "memory usage: 121.5 KB\n"
     ]
    }
   ],
   "source": [
    "# Checking for above imputing operation\n",
    "df1.info()"
   ]
  },
  {
   "cell_type": "markdown",
   "metadata": {
    "colab_type": "text",
    "id": "YeNmVfvTQbkP"
   },
   "source": [
    "> As the columns ID,Reason for absence,Month of absence,Day of the week,Seasons,Education,Pet,Son,Social smoker,Social drinker contain integer type of values and are categorical variables so defining them as int type."
   ]
  },
  {
   "cell_type": "code",
   "execution_count": 12,
   "metadata": {
    "colab": {},
    "colab_type": "code",
    "id": "JwCquuc9Rxin"
   },
   "outputs": [],
   "source": [
    "df1['ID']=df1['ID'].astype(int)\n",
    "df1['Reason for absence']=df1['Reason for absence'].astype(int)\n",
    "df1['Month of absence']=df1['Month of absence'].astype(int)\n",
    "df1['Education']=df1['Education'].astype(int)\n",
    "df1['Social drinker']=df1['Social drinker'].astype(int)\n",
    "df1['Social smoker']=df1['Social smoker'].astype(int)\n",
    "df1['Day of the week']=df1['Day of the week'].astype(int)\n",
    "df1['Seasons']=df1['Seasons'].astype(int)\n",
    "df1['Disciplinary failure']=df1['Disciplinary failure'].astype(int)\n",
    "df1['Pet']=df1['Pet'].astype(int)\n",
    "df1['Son']=df1['Son'].astype(int)"
   ]
  },
  {
   "cell_type": "code",
   "execution_count": 13,
   "metadata": {
    "colab": {
     "base_uri": "https://localhost:8080/",
     "height": 459
    },
    "colab_type": "code",
    "id": "qmgZDM1_5Pmj",
    "outputId": "59293bda-4b1a-4753-9e54-cf48f14c58d1"
   },
   "outputs": [
    {
     "name": "stdout",
     "output_type": "stream",
     "text": [
      "<class 'pandas.core.frame.DataFrame'>\n",
      "RangeIndex: 740 entries, 0 to 739\n",
      "Data columns (total 21 columns):\n",
      "ID                                 740 non-null int32\n",
      "Reason for absence                 740 non-null int32\n",
      "Month of absence                   740 non-null int32\n",
      "Day of the week                    740 non-null int32\n",
      "Seasons                            740 non-null int32\n",
      "Transportation expense             740 non-null float64\n",
      "Distance from Residence to Work    740 non-null float64\n",
      "Service time                       740 non-null float64\n",
      "Age                                740 non-null float64\n",
      "Work load Average/day              740 non-null float64\n",
      "Hit target                         740 non-null float64\n",
      "Disciplinary failure               740 non-null int32\n",
      "Education                          740 non-null int32\n",
      "Son                                740 non-null int32\n",
      "Social drinker                     740 non-null int32\n",
      "Social smoker                      740 non-null int32\n",
      "Pet                                740 non-null int32\n",
      "Weight                             740 non-null float64\n",
      "Height                             740 non-null float64\n",
      "Body mass index                    740 non-null float64\n",
      "Absenteeism time in hours          740 non-null float64\n",
      "dtypes: float64(10), int32(11)\n",
      "memory usage: 89.7 KB\n"
     ]
    }
   ],
   "source": [
    "# Validating the above operation\n",
    "df1.info()"
   ]
  },
  {
   "cell_type": "code",
   "execution_count": 14,
   "metadata": {
    "colab": {
     "base_uri": "https://localhost:8080/",
     "height": 213
    },
    "colab_type": "code",
    "id": "0b1IkLRdyWc0",
    "outputId": "0e350045-a4ce-406e-d50e-2e9fd97f1b93"
   },
   "outputs": [
    {
     "data": {
      "text/html": [
       "<div>\n",
       "<style scoped>\n",
       "    .dataframe tbody tr th:only-of-type {\n",
       "        vertical-align: middle;\n",
       "    }\n",
       "\n",
       "    .dataframe tbody tr th {\n",
       "        vertical-align: top;\n",
       "    }\n",
       "\n",
       "    .dataframe thead th {\n",
       "        text-align: right;\n",
       "    }\n",
       "</style>\n",
       "<table border=\"1\" class=\"dataframe\">\n",
       "  <thead>\n",
       "    <tr style=\"text-align: right;\">\n",
       "      <th></th>\n",
       "      <th>ID</th>\n",
       "      <th>Reason for absence</th>\n",
       "      <th>Month of absence</th>\n",
       "      <th>Day of the week</th>\n",
       "      <th>Seasons</th>\n",
       "      <th>Transportation expense</th>\n",
       "      <th>Distance from Residence to Work</th>\n",
       "      <th>Service time</th>\n",
       "      <th>Age</th>\n",
       "      <th>Work load Average/day</th>\n",
       "      <th>...</th>\n",
       "      <th>Disciplinary failure</th>\n",
       "      <th>Education</th>\n",
       "      <th>Son</th>\n",
       "      <th>Social drinker</th>\n",
       "      <th>Social smoker</th>\n",
       "      <th>Pet</th>\n",
       "      <th>Weight</th>\n",
       "      <th>Height</th>\n",
       "      <th>Body mass index</th>\n",
       "      <th>Absenteeism time in hours</th>\n",
       "    </tr>\n",
       "  </thead>\n",
       "  <tbody>\n",
       "    <tr>\n",
       "      <th>0</th>\n",
       "      <td>11</td>\n",
       "      <td>23</td>\n",
       "      <td>6</td>\n",
       "      <td>3</td>\n",
       "      <td>1</td>\n",
       "      <td>225.0</td>\n",
       "      <td>26.0</td>\n",
       "      <td>13.0</td>\n",
       "      <td>37.0</td>\n",
       "      <td>264249.0</td>\n",
       "      <td>...</td>\n",
       "      <td>0</td>\n",
       "      <td>1</td>\n",
       "      <td>1</td>\n",
       "      <td>1</td>\n",
       "      <td>0</td>\n",
       "      <td>0</td>\n",
       "      <td>83.0</td>\n",
       "      <td>170.0</td>\n",
       "      <td>25.0</td>\n",
       "      <td>3.0</td>\n",
       "    </tr>\n",
       "    <tr>\n",
       "      <th>1</th>\n",
       "      <td>36</td>\n",
       "      <td>0</td>\n",
       "      <td>7</td>\n",
       "      <td>3</td>\n",
       "      <td>1</td>\n",
       "      <td>118.0</td>\n",
       "      <td>13.0</td>\n",
       "      <td>18.0</td>\n",
       "      <td>50.0</td>\n",
       "      <td>239554.0</td>\n",
       "      <td>...</td>\n",
       "      <td>1</td>\n",
       "      <td>1</td>\n",
       "      <td>1</td>\n",
       "      <td>1</td>\n",
       "      <td>0</td>\n",
       "      <td>0</td>\n",
       "      <td>98.0</td>\n",
       "      <td>178.0</td>\n",
       "      <td>31.0</td>\n",
       "      <td>0.0</td>\n",
       "    </tr>\n",
       "    <tr>\n",
       "      <th>2</th>\n",
       "      <td>3</td>\n",
       "      <td>23</td>\n",
       "      <td>7</td>\n",
       "      <td>4</td>\n",
       "      <td>1</td>\n",
       "      <td>179.0</td>\n",
       "      <td>51.0</td>\n",
       "      <td>18.0</td>\n",
       "      <td>38.0</td>\n",
       "      <td>239554.0</td>\n",
       "      <td>...</td>\n",
       "      <td>0</td>\n",
       "      <td>1</td>\n",
       "      <td>0</td>\n",
       "      <td>1</td>\n",
       "      <td>0</td>\n",
       "      <td>0</td>\n",
       "      <td>89.0</td>\n",
       "      <td>170.0</td>\n",
       "      <td>31.0</td>\n",
       "      <td>2.0</td>\n",
       "    </tr>\n",
       "  </tbody>\n",
       "</table>\n",
       "<p>3 rows × 21 columns</p>\n",
       "</div>"
      ],
      "text/plain": [
       "   ID  Reason for absence  Month of absence  Day of the week  Seasons  \\\n",
       "0  11                  23                 6                3        1   \n",
       "1  36                   0                 7                3        1   \n",
       "2   3                  23                 7                4        1   \n",
       "\n",
       "   Transportation expense  Distance from Residence to Work  Service time  \\\n",
       "0                   225.0                             26.0          13.0   \n",
       "1                   118.0                             13.0          18.0   \n",
       "2                   179.0                             51.0          18.0   \n",
       "\n",
       "    Age  Work load Average/day             ...              \\\n",
       "0  37.0                264249.0            ...               \n",
       "1  50.0                239554.0            ...               \n",
       "2  38.0                239554.0            ...               \n",
       "\n",
       "   Disciplinary failure  Education  Son  Social drinker  Social smoker  Pet  \\\n",
       "0                     0          1    1               1              0    0   \n",
       "1                     1          1    1               1              0    0   \n",
       "2                     0          1    0               1              0    0   \n",
       "\n",
       "   Weight  Height  Body mass index  Absenteeism time in hours  \n",
       "0    83.0   170.0             25.0                        3.0  \n",
       "1    98.0   178.0             31.0                        0.0  \n",
       "2    89.0   170.0             31.0                        2.0  \n",
       "\n",
       "[3 rows x 21 columns]"
      ]
     },
     "execution_count": 14,
     "metadata": {},
     "output_type": "execute_result"
    }
   ],
   "source": [
    "df1.head(3)"
   ]
  },
  {
   "cell_type": "markdown",
   "metadata": {
    "colab_type": "text",
    "id": "2lR8AEDNQltx"
   },
   "source": [
    "> As it was said by the support team that average work load / day variable which is having very very high values won't convey anything so we need to divide it by 1000. so dividing the entire column by 1000."
   ]
  },
  {
   "cell_type": "code",
   "execution_count": 15,
   "metadata": {
    "colab": {},
    "colab_type": "code",
    "id": "c7PqMZQlSuOT"
   },
   "outputs": [],
   "source": [
    "df1['Work load Average/day ']=df1['Work load Average/day ']/1000"
   ]
  },
  {
   "cell_type": "code",
   "execution_count": 16,
   "metadata": {
    "colab": {
     "base_uri": "https://localhost:8080/",
     "height": 213
    },
    "colab_type": "code",
    "id": "FTOs0U-wBZB7",
    "outputId": "96546455-3a29-44ed-a6be-c602c510609f"
   },
   "outputs": [
    {
     "data": {
      "text/html": [
       "<div>\n",
       "<style scoped>\n",
       "    .dataframe tbody tr th:only-of-type {\n",
       "        vertical-align: middle;\n",
       "    }\n",
       "\n",
       "    .dataframe tbody tr th {\n",
       "        vertical-align: top;\n",
       "    }\n",
       "\n",
       "    .dataframe thead th {\n",
       "        text-align: right;\n",
       "    }\n",
       "</style>\n",
       "<table border=\"1\" class=\"dataframe\">\n",
       "  <thead>\n",
       "    <tr style=\"text-align: right;\">\n",
       "      <th></th>\n",
       "      <th>ID</th>\n",
       "      <th>Reason for absence</th>\n",
       "      <th>Month of absence</th>\n",
       "      <th>Day of the week</th>\n",
       "      <th>Seasons</th>\n",
       "      <th>Transportation expense</th>\n",
       "      <th>Distance from Residence to Work</th>\n",
       "      <th>Service time</th>\n",
       "      <th>Age</th>\n",
       "      <th>Work load Average/day</th>\n",
       "      <th>...</th>\n",
       "      <th>Disciplinary failure</th>\n",
       "      <th>Education</th>\n",
       "      <th>Son</th>\n",
       "      <th>Social drinker</th>\n",
       "      <th>Social smoker</th>\n",
       "      <th>Pet</th>\n",
       "      <th>Weight</th>\n",
       "      <th>Height</th>\n",
       "      <th>Body mass index</th>\n",
       "      <th>Absenteeism time in hours</th>\n",
       "    </tr>\n",
       "  </thead>\n",
       "  <tbody>\n",
       "    <tr>\n",
       "      <th>0</th>\n",
       "      <td>11</td>\n",
       "      <td>23</td>\n",
       "      <td>6</td>\n",
       "      <td>3</td>\n",
       "      <td>1</td>\n",
       "      <td>225.0</td>\n",
       "      <td>26.0</td>\n",
       "      <td>13.0</td>\n",
       "      <td>37.0</td>\n",
       "      <td>264.249</td>\n",
       "      <td>...</td>\n",
       "      <td>0</td>\n",
       "      <td>1</td>\n",
       "      <td>1</td>\n",
       "      <td>1</td>\n",
       "      <td>0</td>\n",
       "      <td>0</td>\n",
       "      <td>83.0</td>\n",
       "      <td>170.0</td>\n",
       "      <td>25.0</td>\n",
       "      <td>3.0</td>\n",
       "    </tr>\n",
       "    <tr>\n",
       "      <th>1</th>\n",
       "      <td>36</td>\n",
       "      <td>0</td>\n",
       "      <td>7</td>\n",
       "      <td>3</td>\n",
       "      <td>1</td>\n",
       "      <td>118.0</td>\n",
       "      <td>13.0</td>\n",
       "      <td>18.0</td>\n",
       "      <td>50.0</td>\n",
       "      <td>239.554</td>\n",
       "      <td>...</td>\n",
       "      <td>1</td>\n",
       "      <td>1</td>\n",
       "      <td>1</td>\n",
       "      <td>1</td>\n",
       "      <td>0</td>\n",
       "      <td>0</td>\n",
       "      <td>98.0</td>\n",
       "      <td>178.0</td>\n",
       "      <td>31.0</td>\n",
       "      <td>0.0</td>\n",
       "    </tr>\n",
       "    <tr>\n",
       "      <th>2</th>\n",
       "      <td>3</td>\n",
       "      <td>23</td>\n",
       "      <td>7</td>\n",
       "      <td>4</td>\n",
       "      <td>1</td>\n",
       "      <td>179.0</td>\n",
       "      <td>51.0</td>\n",
       "      <td>18.0</td>\n",
       "      <td>38.0</td>\n",
       "      <td>239.554</td>\n",
       "      <td>...</td>\n",
       "      <td>0</td>\n",
       "      <td>1</td>\n",
       "      <td>0</td>\n",
       "      <td>1</td>\n",
       "      <td>0</td>\n",
       "      <td>0</td>\n",
       "      <td>89.0</td>\n",
       "      <td>170.0</td>\n",
       "      <td>31.0</td>\n",
       "      <td>2.0</td>\n",
       "    </tr>\n",
       "  </tbody>\n",
       "</table>\n",
       "<p>3 rows × 21 columns</p>\n",
       "</div>"
      ],
      "text/plain": [
       "   ID  Reason for absence  Month of absence  Day of the week  Seasons  \\\n",
       "0  11                  23                 6                3        1   \n",
       "1  36                   0                 7                3        1   \n",
       "2   3                  23                 7                4        1   \n",
       "\n",
       "   Transportation expense  Distance from Residence to Work  Service time  \\\n",
       "0                   225.0                             26.0          13.0   \n",
       "1                   118.0                             13.0          18.0   \n",
       "2                   179.0                             51.0          18.0   \n",
       "\n",
       "    Age  Work load Average/day             ...              \\\n",
       "0  37.0                 264.249            ...               \n",
       "1  50.0                 239.554            ...               \n",
       "2  38.0                 239.554            ...               \n",
       "\n",
       "   Disciplinary failure  Education  Son  Social drinker  Social smoker  Pet  \\\n",
       "0                     0          1    1               1              0    0   \n",
       "1                     1          1    1               1              0    0   \n",
       "2                     0          1    0               1              0    0   \n",
       "\n",
       "   Weight  Height  Body mass index  Absenteeism time in hours  \n",
       "0    83.0   170.0             25.0                        3.0  \n",
       "1    98.0   178.0             31.0                        0.0  \n",
       "2    89.0   170.0             31.0                        2.0  \n",
       "\n",
       "[3 rows x 21 columns]"
      ]
     },
     "execution_count": 16,
     "metadata": {},
     "output_type": "execute_result"
    }
   ],
   "source": [
    "df1.head(3)"
   ]
  },
  {
   "cell_type": "code",
   "execution_count": 17,
   "metadata": {
    "colab": {
     "base_uri": "https://localhost:8080/",
     "height": 255
    },
    "colab_type": "code",
    "id": "fiqyAzrm6e72",
    "outputId": "453cc16d-e2eb-423b-b64d-797aee480981"
   },
   "outputs": [
    {
     "data": {
      "text/plain": [
       "3     87\n",
       "2     72\n",
       "10    70\n",
       "7     66\n",
       "5     64\n",
       "11    63\n",
       "6     56\n",
       "8     54\n",
       "9     53\n",
       "4     53\n",
       "1     50\n",
       "12    49\n",
       "0      3\n",
       "Name: Month of absence, dtype: int64"
      ]
     },
     "execution_count": 17,
     "metadata": {},
     "output_type": "execute_result"
    }
   ],
   "source": [
    "df1['Month of absence'].value_counts()"
   ]
  },
  {
   "cell_type": "markdown",
   "metadata": {
    "colab_type": "text",
    "id": "Ayb2LV7i7FdW"
   },
   "source": [
    "> As month index is starting from zero so index of 12 is absurd,it might be due to rounding off so replacing 12 with eleven everwhere."
   ]
  },
  {
   "cell_type": "code",
   "execution_count": 18,
   "metadata": {
    "colab": {
     "base_uri": "https://localhost:8080/",
     "height": 102
    },
    "colab_type": "code",
    "id": "oPwumnoV7Mq4",
    "outputId": "2b225ed0-d6bd-445e-f091-e45c47881db1"
   },
   "outputs": [
    {
     "name": "stderr",
     "output_type": "stream",
     "text": [
      "D:\\Work\\Anaconda\\lib\\site-packages\\ipykernel_launcher.py:1: SettingWithCopyWarning: \n",
      "A value is trying to be set on a copy of a slice from a DataFrame\n",
      "\n",
      "See the caveats in the documentation: http://pandas.pydata.org/pandas-docs/stable/indexing.html#indexing-view-versus-copy\n",
      "  \"\"\"Entry point for launching an IPython kernel.\n"
     ]
    }
   ],
   "source": [
    "df1['Month of absence'][df1['Month of absence'] == 12]=11"
   ]
  },
  {
   "cell_type": "code",
   "execution_count": 19,
   "metadata": {
    "colab": {
     "base_uri": "https://localhost:8080/",
     "height": 238
    },
    "colab_type": "code",
    "id": "1kyrQk8V7LlJ",
    "outputId": "176c200d-7658-4bdc-f86d-d4bbbde50910"
   },
   "outputs": [
    {
     "data": {
      "text/plain": [
       "11    112\n",
       "3      87\n",
       "2      72\n",
       "10     70\n",
       "7      66\n",
       "5      64\n",
       "6      56\n",
       "8      54\n",
       "9      53\n",
       "4      53\n",
       "1      50\n",
       "0       3\n",
       "Name: Month of absence, dtype: int64"
      ]
     },
     "execution_count": 19,
     "metadata": {},
     "output_type": "execute_result"
    }
   ],
   "source": [
    "df1['Month of absence'].value_counts()"
   ]
  },
  {
   "cell_type": "code",
   "execution_count": 20,
   "metadata": {
    "colab": {},
    "colab_type": "code",
    "id": "XYQQRjzx9OSm"
   },
   "outputs": [],
   "source": [
    "# Converting all the categorical columns to string type.\n",
    "df1['ID']=df1['ID'].astype(str)\n",
    "df1['Reason for absence']=df1['Reason for absence'].astype(str)\n",
    "df1['Month of absence']=df1['Month of absence'].astype(str)\n",
    "df1['Education']=df1['Education'].astype(str)\n",
    "df1['Social drinker']=df1['Social drinker'].astype(str)\n",
    "df1['Social smoker']=df1['Social smoker'].astype(str)\n",
    "df1['Day of the week']=df1['Day of the week'].astype(str)\n",
    "df1['Seasons']=df1['Seasons'].astype(str)\n",
    "df1['Disciplinary failure']=df1['Disciplinary failure'].astype(str)\n",
    "df1['Pet']=df1['Pet'].astype(str)\n",
    "df1['Son']=df1['Son'].astype(str)"
   ]
  },
  {
   "cell_type": "code",
   "execution_count": 21,
   "metadata": {
    "colab": {
     "base_uri": "https://localhost:8080/",
     "height": 459
    },
    "colab_type": "code",
    "id": "pI2ERwkk--QD",
    "outputId": "a8adf63e-8437-4bf6-8a68-a96c732ee7ea"
   },
   "outputs": [
    {
     "name": "stdout",
     "output_type": "stream",
     "text": [
      "<class 'pandas.core.frame.DataFrame'>\n",
      "RangeIndex: 740 entries, 0 to 739\n",
      "Data columns (total 21 columns):\n",
      "ID                                 740 non-null object\n",
      "Reason for absence                 740 non-null object\n",
      "Month of absence                   740 non-null object\n",
      "Day of the week                    740 non-null object\n",
      "Seasons                            740 non-null object\n",
      "Transportation expense             740 non-null float64\n",
      "Distance from Residence to Work    740 non-null float64\n",
      "Service time                       740 non-null float64\n",
      "Age                                740 non-null float64\n",
      "Work load Average/day              740 non-null float64\n",
      "Hit target                         740 non-null float64\n",
      "Disciplinary failure               740 non-null object\n",
      "Education                          740 non-null object\n",
      "Son                                740 non-null object\n",
      "Social drinker                     740 non-null object\n",
      "Social smoker                      740 non-null object\n",
      "Pet                                740 non-null object\n",
      "Weight                             740 non-null float64\n",
      "Height                             740 non-null float64\n",
      "Body mass index                    740 non-null float64\n",
      "Absenteeism time in hours          740 non-null float64\n",
      "dtypes: float64(10), object(11)\n",
      "memory usage: 121.5+ KB\n"
     ]
    }
   ],
   "source": [
    "# Validating the above operation\n",
    "df1.info()"
   ]
  },
  {
   "cell_type": "markdown",
   "metadata": {
    "colab_type": "text",
    "id": "BNbAjlEXyVqt"
   },
   "source": [
    "## Exploratory Data Analysis"
   ]
  },
  {
   "cell_type": "markdown",
   "metadata": {
    "colab_type": "text",
    "id": "rlIX4I6USFKh"
   },
   "source": [
    "> Below histograms of all continuous variables have been drawn so as to get a glimpse of their distribution and also presence of outliers."
   ]
  },
  {
   "cell_type": "code",
   "execution_count": 22,
   "metadata": {
    "colab": {
     "base_uri": "https://localhost:8080/",
     "height": 320
    },
    "colab_type": "code",
    "id": "nP9s_jNq2K3d",
    "outputId": "9cccf9c5-e3ab-488d-b782-3a04d07d5999"
   },
   "outputs": [
    {
     "data": {
      "image/png": "[encoded data removed]",
      "text/plain": [
       "<Figure size 720x360 with 1 Axes>"
      ]
     },
     "metadata": {
      "needs_background": "light"
     },
     "output_type": "display_data"
    }
   ],
   "source": [
    "plt.figure(figsize=[10,5])\n",
    "plt.hist(x='Absenteeism time in hours',data=df1);"
   ]
  },
  {
   "cell_type": "markdown",
   "metadata": {
    "colab_type": "text",
    "id": "JYMgqJfDSXLe"
   },
   "source": [
    "> The above figure shows distribution of absenteeism time in hours of the employees. It clearly shows that majority of the employees have absenteeism hours within 10 approximately. There are some outliers present which duration of more than 20 and few of the employees have absenteeism hours upto 120. it clealry indicates the presence of outliers in this variable."
   ]
  },
  {
   "cell_type": "code",
   "execution_count": 23,
   "metadata": {
    "colab": {
     "base_uri": "https://localhost:8080/",
     "height": 320
    },
    "colab_type": "code",
    "id": "chZ68NN-2sUI",
    "outputId": "99491283-7fb8-463a-b6dd-f0483d0ac62a"
   },
   "outputs": [
    {
     "data": {
      "image/png": "[encoded data removed]",
      "text/plain": [
       "<Figure size 720x360 with 1 Axes>"
      ]
     },
     "metadata": {
      "needs_background": "light"
     },
     "output_type": "display_data"
    }
   ],
   "source": [
    "plt.figure(figsize=[10,5])\n",
    "plt.hist(x='Transportation expense',data=df1);"
   ]
  },
  {
   "cell_type": "markdown",
   "metadata": {
    "colab_type": "text",
    "id": "4H5mZqlBVe5O"
   },
   "source": [
    "> In the above histogram distribution of transportation expense is plotted. It shows that majority of employees have transportation expense between 150 and 300. Also a bar between 350 and 400 clearly depicts presence of outliers in it."
   ]
  },
  {
   "cell_type": "code",
   "execution_count": 24,
   "metadata": {
    "colab": {
     "base_uri": "https://localhost:8080/",
     "height": 320
    },
    "colab_type": "code",
    "id": "9O1JQl6p3jKA",
    "outputId": "8881f9d5-59a0-4086-e976-7018860c0ad8"
   },
   "outputs": [
    {
     "data": {
      "image/png": "[encoded data removed]",
      "text/plain": [
       "<Figure size 720x360 with 1 Axes>"
      ]
     },
     "metadata": {
      "needs_background": "light"
     },
     "output_type": "display_data"
    }
   ],
   "source": [
    "plt.figure(figsize=[10,5])\n",
    "plt.hist(x='Distance from Residence to Work',data=df1);"
   ]
  },
  {
   "cell_type": "markdown",
   "metadata": {
    "colab_type": "text",
    "id": "JPDk-j581alW"
   },
   "source": [
    "> The above figure shows distribution of distance from residence to work of employees. There are three peak bars between around 10,26 and 50km approximately,which shows that majority of employees have distance in around these."
   ]
  },
  {
   "cell_type": "code",
   "execution_count": 25,
   "metadata": {
    "colab": {
     "base_uri": "https://localhost:8080/",
     "height": 350
    },
    "colab_type": "code",
    "id": "16Am6DE38jdb",
    "outputId": "a46035c2-a812-48ad-b409-ec4bc5aacf38"
   },
   "outputs": [
    {
     "data": {
      "image/png": "[encoded data removed]",
      "text/plain": [
       "<Figure size 720x360 with 1 Axes>"
      ]
     },
     "metadata": {
      "needs_background": "light"
     },
     "output_type": "display_data"
    }
   ],
   "source": [
    "plt.figure(figsize=[10,5])\n",
    "plt.hist(x='Service time',data=df1)\n",
    "plt.title('Distribution of Service time of employees')\n",
    "plt.xlabel('Service time')\n",
    "plt.ylabel('Frequency');"
   ]
  },
  {
   "cell_type": "markdown",
   "metadata": {
    "colab_type": "text",
    "id": "OEZnEPyg2MIh"
   },
   "source": [
    "> The above histogram shows distribution of service time of employees i.e. for how long they have been working in the company.Majority of the employees are those who have served for more than 5 years upto 20 years. Also there are some old employees who have served for more than 25 years."
   ]
  },
  {
   "cell_type": "code",
   "execution_count": 26,
   "metadata": {
    "colab": {
     "base_uri": "https://localhost:8080/",
     "height": 320
    },
    "colab_type": "code",
    "id": "VhgqaGEI369U",
    "outputId": "1cd315c4-4c30-4052-e6ae-77f150cffcda"
   },
   "outputs": [
    {
     "data": {
      "image/png": "[encoded data removed]",
      "text/plain": [
       "<Figure size 720x360 with 1 Axes>"
      ]
     },
     "metadata": {
      "needs_background": "light"
     },
     "output_type": "display_data"
    }
   ],
   "source": [
    "plt.figure(figsize=[10,5])\n",
    "plt.hist(x='Age',data=df1);"
   ]
  },
  {
   "cell_type": "code",
   "execution_count": 27,
   "metadata": {
    "colab": {
     "base_uri": "https://localhost:8080/",
     "height": 320
    },
    "colab_type": "code",
    "id": "yminKoN836y3",
    "outputId": "53b68380-a861-40f2-9f1c-4e154fbc53cd"
   },
   "outputs": [
    {
     "data": {
      "image/png": "[encoded data removed]",
      "text/plain": [
       "<Figure size 720x360 with 1 Axes>"
      ]
     },
     "metadata": {
      "needs_background": "light"
     },
     "output_type": "display_data"
    }
   ],
   "source": [
    "plt.figure(figsize=[10,5])\n",
    "plt.hist(x='Height',data=df1);"
   ]
  },
  {
   "cell_type": "code",
   "execution_count": 28,
   "metadata": {
    "colab": {
     "base_uri": "https://localhost:8080/",
     "height": 320
    },
    "colab_type": "code",
    "id": "_1TF0WWX36is",
    "outputId": "5f78a8a4-adbf-40e7-aa2e-14722cad0ecc"
   },
   "outputs": [
    {
     "data": {
      "image/png": "[encoded data removed]",
      "text/plain": [
       "<Figure size 720x360 with 1 Axes>"
      ]
     },
     "metadata": {
      "needs_background": "light"
     },
     "output_type": "display_data"
    }
   ],
   "source": [
    "plt.figure(figsize=[10,5])\n",
    "plt.hist(x='Weight',data=df1);"
   ]
  },
  {
   "cell_type": "code",
   "execution_count": 29,
   "metadata": {
    "colab": {
     "base_uri": "https://localhost:8080/",
     "height": 320
    },
    "colab_type": "code",
    "id": "6CC7xtxg4Gne",
    "outputId": "02dff91a-16e7-4b83-d2d3-111fec183547"
   },
   "outputs": [
    {
     "data": {
      "image/png": "[encoded data removed]",
      "text/plain": [
       "<Figure size 720x360 with 1 Axes>"
      ]
     },
     "metadata": {
      "needs_background": "light"
     },
     "output_type": "display_data"
    }
   ],
   "source": [
    "plt.figure(figsize=[10,5])\n",
    "plt.hist(x='Body mass index',data=df1);"
   ]
  },
  {
   "cell_type": "code",
   "execution_count": 30,
   "metadata": {
    "colab": {
     "base_uri": "https://localhost:8080/",
     "height": 320
    },
    "colab_type": "code",
    "id": "3z_sWcvh4GkD",
    "outputId": "7c17eddc-5075-406e-b883-cd3a4a675216"
   },
   "outputs": [
    {
     "data": {
      "image/png": "[encoded data removed]",
      "text/plain": [
       "<Figure size 720x360 with 1 Axes>"
      ]
     },
     "metadata": {
      "needs_background": "light"
     },
     "output_type": "display_data"
    }
   ],
   "source": [
    "plt.figure(figsize=[10,5])\n",
    "plt.hist(x='Work load Average/day ',data=df1);"
   ]
  },
  {
   "cell_type": "code",
   "execution_count": 31,
   "metadata": {
    "colab": {
     "base_uri": "https://localhost:8080/",
     "height": 321
    },
    "colab_type": "code",
    "id": "E6JqxD4Q4efw",
    "outputId": "604b9923-55a9-45dc-b3bd-db3e0595f7e6"
   },
   "outputs": [
    {
     "data": {
      "image/png": "[encoded data removed]",
      "text/plain": [
       "<Figure size 720x360 with 1 Axes>"
      ]
     },
     "metadata": {
      "needs_background": "light"
     },
     "output_type": "display_data"
    }
   ],
   "source": [
    "plt.figure(figsize=[10,5])\n",
    "plt.hist(x='Hit target',data=df1);"
   ]
  },
  {
   "cell_type": "markdown",
   "metadata": {
    "colab_type": "text",
    "id": "wpyEUhCB4vrp"
   },
   "source": [
    "> Below is plotted pie charts for the various categorical variables present in the dataframe."
   ]
  },
  {
   "cell_type": "code",
   "execution_count": 32,
   "metadata": {
    "colab": {
     "base_uri": "https://localhost:8080/",
     "height": 575
    },
    "colab_type": "code",
    "id": "A5fg6ms0yLkO",
    "outputId": "c698258f-2094-4210-c524-638cc364fb2c"
   },
   "outputs": [
    {
     "data": {
      "image/png": "[encoded data removed]",
      "text/plain": [
       "<Figure size 1440x720 with 1 Axes>"
      ]
     },
     "metadata": {},
     "output_type": "display_data"
    }
   ],
   "source": [
    "k=df1['Education'].value_counts()\n",
    "k.plot(kind='pie',figsize=(20,10),legend=True)\n",
    "plt.legend(loc=0,bbox_to_anchor=(1.5,0.5));"
   ]
  },
  {
   "cell_type": "markdown",
   "metadata": {
    "colab_type": "text",
    "id": "rQsRmUaq5DDx"
   },
   "source": [
    "> Above Pie-chart is for Education categorical variable. It shows that majority of employees in the dataset belong to education level category 1 i.e. high school,followed by 3 which is post graduate."
   ]
  },
  {
   "cell_type": "code",
   "execution_count": 33,
   "metadata": {
    "colab": {
     "base_uri": "https://localhost:8080/",
     "height": 731
    },
    "colab_type": "code",
    "id": "ppOXX05nyuVx",
    "outputId": "5b22511e-808b-4d4d-f49d-cec1ce5671e4"
   },
   "outputs": [
    {
     "data": {
      "image/png": "[encoded data removed]",
      "text/plain": [
       "<Figure size 1440x720 with 1 Axes>"
      ]
     },
     "metadata": {},
     "output_type": "display_data"
    }
   ],
   "source": [
    "k=df1['Reason for absence'].value_counts()\n",
    "k.plot(kind='pie',figsize=(20,10),legend=True)\n",
    "plt.legend(loc=0,bbox_to_anchor=(1.5,0.5));"
   ]
  },
  {
   "cell_type": "markdown",
   "metadata": {
    "colab_type": "text",
    "id": "ImVO9_Zm6tcG"
   },
   "source": [
    "> Above figure shows distribution of different reasons of absence made by employees in the dataset. It is clear that most of them have the reason for absence belonging to category 23(medical consultation) followed by 28(dental consultation) and 27(physiotherapy) which is not in the international code of diseases. Rather if the company introduces a scheme of medical checkup annually for all of its employees it may help reduce absenteeism of employees."
   ]
  },
  {
   "cell_type": "code",
   "execution_count": 34,
   "metadata": {
    "colab": {
     "base_uri": "https://localhost:8080/",
     "height": 575
    },
    "colab_type": "code",
    "id": "ijmVnFDcy88n",
    "outputId": "fee6cb41-ed8a-4006-c766-d686a308aeb2"
   },
   "outputs": [
    {
     "data": {
      "image/png": "[encoded data removed]",
      "text/plain": [
       "<Figure size 1440x720 with 1 Axes>"
      ]
     },
     "metadata": {},
     "output_type": "display_data"
    }
   ],
   "source": [
    "k=df1['Month of absence'].value_counts()\n",
    "k.plot(kind='pie',figsize=(20,10),legend=True)\n",
    "plt.legend(loc=0,bbox_to_anchor=(1.5,0.5));"
   ]
  },
  {
   "cell_type": "markdown",
   "metadata": {
    "colab_type": "text",
    "id": "FfT93tSQ8Pmi"
   },
   "source": [
    "> Above figure depicts month of absence of the employees where month 11 i.e. \n",
    "December is majority followed by month 3 i.e. April. Also month 0 i.e. January has the minimum contribution in the dataset which means very few employees are absent in this month.\n",
    "Note- As the month no is starting from 0 here so assuming January to be index 0 and so on. "
   ]
  },
  {
   "cell_type": "code",
   "execution_count": 35,
   "metadata": {
    "colab": {
     "base_uri": "https://localhost:8080/",
     "height": 575
    },
    "colab_type": "code",
    "id": "cmcxpfhuzJNL",
    "outputId": "b6f615f5-f84c-428c-c354-fac372e12ae6"
   },
   "outputs": [
    {
     "data": {
      "image/png": "[encoded data removed]",
      "text/plain": [
       "<Figure size 1440x720 with 1 Axes>"
      ]
     },
     "metadata": {},
     "output_type": "display_data"
    }
   ],
   "source": [
    "k=df1['Social drinker'].value_counts()\n",
    "k.plot(kind='pie',figsize=(20,10),legend=True)\n",
    "plt.legend(loc=0,bbox_to_anchor=(1.5,0.5));"
   ]
  },
  {
   "cell_type": "markdown",
   "metadata": {
    "colab_type": "text",
    "id": "rU6TWjuj9IOF"
   },
   "source": [
    "> Pie-chart above shows distribution of employees who are social drinker in the daatset. It is clear that majority of employees are social drinker. Thus company should be quite cautious while hiring new employees and ensure that they are not social drinkers."
   ]
  },
  {
   "cell_type": "code",
   "execution_count": 36,
   "metadata": {
    "colab": {
     "base_uri": "https://localhost:8080/",
     "height": 575
    },
    "colab_type": "code",
    "id": "cPQWzRAFzLz1",
    "outputId": "55516d26-96e0-473a-8a9b-9f4138f90cff"
   },
   "outputs": [
    {
     "data": {
      "image/png": "[encoded data removed]",
      "text/plain": [
       "<Figure size 1440x720 with 1 Axes>"
      ]
     },
     "metadata": {},
     "output_type": "display_data"
    }
   ],
   "source": [
    "k=df1['Social smoker'].value_counts()\n",
    "k.plot(kind='pie',figsize=(20,10),legend=True)\n",
    "plt.legend(loc=0,bbox_to_anchor=(1.5,0.5));"
   ]
  },
  {
   "cell_type": "markdown",
   "metadata": {
    "colab_type": "text",
    "id": "2Xl4XWZGcG8u"
   },
   "source": [
    "> From the pie-chart above it is clear that employees who don't smoke have major contribution in the dataset."
   ]
  },
  {
   "cell_type": "code",
   "execution_count": 37,
   "metadata": {
    "colab": {
     "base_uri": "https://localhost:8080/",
     "height": 575
    },
    "colab_type": "code",
    "id": "NOc-nV-IY5_0",
    "outputId": "3bd83ef3-0d54-4494-ab7f-7931b1e0a4f5"
   },
   "outputs": [
    {
     "data": {
      "image/png": "[encoded data removed]",
      "text/plain": [
       "<Figure size 1440x720 with 1 Axes>"
      ]
     },
     "metadata": {},
     "output_type": "display_data"
    }
   ],
   "source": [
    "k=df1['Day of the week'].value_counts()\n",
    "k.plot(kind='pie',figsize=(20,10),legend=True)\n",
    "plt.legend(loc=0,bbox_to_anchor=(1.5,0.5));"
   ]
  },
  {
   "cell_type": "markdown",
   "metadata": {
    "colab_type": "text",
    "id": "nz4VVaLjclJX"
   },
   "source": [
    "> The pie-chart above shows distribution of day of the week on which an employee is absent. From the chart it is quite clear that each day has approximately same contribution in the dataset."
   ]
  },
  {
   "cell_type": "code",
   "execution_count": 38,
   "metadata": {
    "colab": {
     "base_uri": "https://localhost:8080/",
     "height": 575
    },
    "colab_type": "code",
    "id": "KlahOVURZC11",
    "outputId": "872959bc-a811-4707-d093-d24b96f6d7a4"
   },
   "outputs": [
    {
     "data": {
      "image/png": "[encoded data removed]",
      "text/plain": [
       "<Figure size 1440x720 with 1 Axes>"
      ]
     },
     "metadata": {},
     "output_type": "display_data"
    }
   ],
   "source": [
    "k=df1['Seasons'].value_counts()\n",
    "k.plot(kind='pie',figsize=(20,10),legend=True)\n",
    "plt.legend(loc=0,bbox_to_anchor=(1.5,0.5));"
   ]
  },
  {
   "cell_type": "markdown",
   "metadata": {
    "colab_type": "text",
    "id": "NkQqUiGvdaGe"
   },
   "source": [
    "> In the above figure distribution of various seasons in the dataset is shown. From the figure it apperars that almost all four seasons have same contribution in the dataset, a bar graph in comparison with sum of absenteeism hours would give a clear information."
   ]
  },
  {
   "cell_type": "code",
   "execution_count": 39,
   "metadata": {
    "colab": {
     "base_uri": "https://localhost:8080/",
     "height": 575
    },
    "colab_type": "code",
    "id": "SgyGZzdKZDuR",
    "outputId": "a973512a-0f07-43e4-ec04-40f5a1bef8fa"
   },
   "outputs": [
    {
     "data": {
      "image/png": "[encoded data removed]",
      "text/plain": [
       "<Figure size 1440x720 with 1 Axes>"
      ]
     },
     "metadata": {},
     "output_type": "display_data"
    }
   ],
   "source": [
    "k=df1['Disciplinary failure'].value_counts()\n",
    "k.plot(kind='pie',figsize=(20,10),legend=True)\n",
    "plt.legend(loc=0,bbox_to_anchor=(1.5,0.5));"
   ]
  },
  {
   "cell_type": "markdown",
   "metadata": {
    "colab_type": "text",
    "id": "XpSqpiRSd9gA"
   },
   "source": [
    "> The above figure for disciplinary failure shows that majority of the employees are well disciplined. This fact may be quite confusing for the company because we look for negative traits in the employees but here it absolutely reverse."
   ]
  },
  {
   "cell_type": "code",
   "execution_count": 40,
   "metadata": {
    "colab": {},
    "colab_type": "code",
    "id": "EKM--qRIcn3Q"
   },
   "outputs": [],
   "source": [
    "# List of continuous variables\n",
    "cnames=['Transportation expense', 'Distance from Residence to Work','Service time', 'Age', 'Work load Average/day ', 'Hit target','Weight',\n",
    "        'Height', 'Body mass index']"
   ]
  },
  {
   "cell_type": "markdown",
   "metadata": {
    "colab_type": "text",
    "id": "zAUmBTsbock-"
   },
   "source": [
    "### Outlier Analysis Using Capping and Flooring method\n",
    "> Here we have defined outliers as some value which is greater than q75+1.5*iqr or less than q25-1.5*iqr, where q75,q25 is the 75th and 25th percentile of the given continnuous variable,iqr the inter-quartile range of that variable.\n",
    "\n",
    "> In the flooring and capping method of outliers analysis we replace those values exceeding q75+1.5*iqr with q75+1.5*iqr and those below q25-1.5*iqr with q25-1.5*iqr."
   ]
  },
  {
   "cell_type": "code",
   "execution_count": 41,
   "metadata": {
    "colab": {},
    "colab_type": "code",
    "id": "o1vHnFt4T1kh"
   },
   "outputs": [],
   "source": [
    "# Storing into a new variable.\n",
    "d1=df1"
   ]
  },
  {
   "cell_type": "code",
   "execution_count": 42,
   "metadata": {
    "colab": {
     "base_uri": "https://localhost:8080/",
     "height": 802
    },
    "colab_type": "code",
    "id": "fyTSTM1_cLKU",
    "outputId": "685f86f6-4f97-4eb8-bb5f-5ff48b17d918"
   },
   "outputs": [
    {
     "data": {
      "text/plain": [
       "Text(0, 0.5, 'Values')"
      ]
     },
     "execution_count": 42,
     "metadata": {},
     "output_type": "execute_result"
    },
    {
     "data": {
      "image/png": "[encoded data removed]",
      "text/plain": [
       "<Figure size 1440x936 with 1 Axes>"
      ]
     },
     "metadata": {
      "needs_background": "light"
     },
     "output_type": "display_data"
    }
   ],
   "source": [
    "# Analysing each continuous variable for presence of outliers using boxplot.\n",
    "plt.figure(figsize=[20,13])\n",
    "plt.boxplot([df1['Transportation expense'],df1['Age'],df1['Service time'],df1['Distance from Residence to Work'],df1['Work load Average/day ']\n",
    "            ,df1['Hit target'],df1['Body mass index'],df1['Height'],df1['Weight']])\n",
    "plt.xlabel(['1. Transportation expense', '2. Age', '3. Service time', '4. Distance from Residence to Work ', '5. Work load Average/day ', '6. Hit target','7. Body mass index','8. Height','9. Weight'])\n",
    "plt.title(\"BoxPlot of the continuous Variables\")\n",
    "plt.ylabel('Values')"
   ]
  },
  {
   "cell_type": "markdown",
   "metadata": {
    "colab_type": "text",
    "id": "g7kYg0FPf8gB"
   },
   "source": [
    "> The figure above clearly shows that variables transportation expense,age,service time,work load average/day,hit target and height all have outliers some in the upper half and some in the lower half."
   ]
  },
  {
   "cell_type": "code",
   "execution_count": 43,
   "metadata": {
    "colab": {},
    "colab_type": "code",
    "id": "WdsN0ppsnWK7"
   },
   "outputs": [],
   "source": [
    "# Defining function for removing outliers.\n",
    "def outlier_analysis(t,c):\n",
    "    q75,q25=np.percentile(t[c],[75,25])\n",
    "    iqr=q75-q25\n",
    "    min=q25-(iqr*1.5)\n",
    "    max=q75+(iqr*1.5)\n",
    "    for i in range(t.shape[0]):\n",
    "        if(t.loc[i,c] > max):\n",
    "            t.loc[i,c]=max\n",
    "        elif(t.loc[i,c] < min):\n",
    "            t.loc[i,c]=min  \n",
    "    return(t)    "
   ]
  },
  {
   "cell_type": "code",
   "execution_count": 44,
   "metadata": {
    "colab": {
     "base_uri": "https://localhost:8080/",
     "height": 459
    },
    "colab_type": "code",
    "id": "WsB6pXYT5ua2",
    "outputId": "c2bea878-eac1-4152-822d-0fab73e7c1af"
   },
   "outputs": [
    {
     "name": "stdout",
     "output_type": "stream",
     "text": [
      "<class 'pandas.core.frame.DataFrame'>\n",
      "RangeIndex: 740 entries, 0 to 739\n",
      "Data columns (total 21 columns):\n",
      "ID                                 740 non-null object\n",
      "Reason for absence                 740 non-null object\n",
      "Month of absence                   740 non-null object\n",
      "Day of the week                    740 non-null object\n",
      "Seasons                            740 non-null object\n",
      "Transportation expense             740 non-null float64\n",
      "Distance from Residence to Work    740 non-null float64\n",
      "Service time                       740 non-null float64\n",
      "Age                                740 non-null float64\n",
      "Work load Average/day              740 non-null float64\n",
      "Hit target                         740 non-null float64\n",
      "Disciplinary failure               740 non-null object\n",
      "Education                          740 non-null object\n",
      "Son                                740 non-null object\n",
      "Social drinker                     740 non-null object\n",
      "Social smoker                      740 non-null object\n",
      "Pet                                740 non-null object\n",
      "Weight                             740 non-null float64\n",
      "Height                             740 non-null float64\n",
      "Body mass index                    740 non-null float64\n",
      "Absenteeism time in hours          740 non-null float64\n",
      "dtypes: float64(10), object(11)\n",
      "memory usage: 121.5+ KB\n"
     ]
    }
   ],
   "source": [
    "d1.info()"
   ]
  },
  {
   "cell_type": "code",
   "execution_count": 45,
   "metadata": {
    "colab": {
     "base_uri": "https://localhost:8080/",
     "height": 170
    },
    "colab_type": "code",
    "id": "g6FpihWMhbjt",
    "outputId": "3df47c60-17a2-4f6e-f2b4-0d8c3beae054"
   },
   "outputs": [
    {
     "data": {
      "text/plain": [
       "['Transportation expense',\n",
       " 'Distance from Residence to Work',\n",
       " 'Service time',\n",
       " 'Age',\n",
       " 'Work load Average/day ',\n",
       " 'Hit target',\n",
       " 'Weight',\n",
       " 'Height',\n",
       " 'Body mass index']"
      ]
     },
     "execution_count": 45,
     "metadata": {},
     "output_type": "execute_result"
    }
   ],
   "source": [
    "# Checking the list of continuous variables\n",
    "cnames"
   ]
  },
  {
   "cell_type": "code",
   "execution_count": 46,
   "metadata": {
    "colab": {},
    "colab_type": "code",
    "id": "SZrt_uDEhlDk"
   },
   "outputs": [],
   "source": [
    "# Creating a list of variables having outliers.\n",
    "out_var=['Transportation expense','Service time','Age','Work load Average/day ','Hit target','Height']"
   ]
  },
  {
   "cell_type": "code",
   "execution_count": 47,
   "metadata": {
    "colab": {},
    "colab_type": "code",
    "id": "YBuT_HIEt2Im"
   },
   "outputs": [],
   "source": [
    "# Removing outliers using flooring and capping method from the given dataset.\n",
    "for i in out_var:\n",
    "    d1=outlier_analysis(d1,i)"
   ]
  },
  {
   "cell_type": "code",
   "execution_count": 48,
   "metadata": {
    "colab": {
     "base_uri": "https://localhost:8080/",
     "height": 459
    },
    "colab_type": "code",
    "id": "ADub3zDdzzS2",
    "outputId": "c457670c-d1f1-4a5d-db90-434bc7ff0c10"
   },
   "outputs": [
    {
     "name": "stdout",
     "output_type": "stream",
     "text": [
      "<class 'pandas.core.frame.DataFrame'>\n",
      "RangeIndex: 740 entries, 0 to 739\n",
      "Data columns (total 21 columns):\n",
      "ID                                 740 non-null object\n",
      "Reason for absence                 740 non-null object\n",
      "Month of absence                   740 non-null object\n",
      "Day of the week                    740 non-null object\n",
      "Seasons                            740 non-null object\n",
      "Transportation expense             740 non-null float64\n",
      "Distance from Residence to Work    740 non-null float64\n",
      "Service time                       740 non-null float64\n",
      "Age                                740 non-null float64\n",
      "Work load Average/day              740 non-null float64\n",
      "Hit target                         740 non-null float64\n",
      "Disciplinary failure               740 non-null object\n",
      "Education                          740 non-null object\n",
      "Son                                740 non-null object\n",
      "Social drinker                     740 non-null object\n",
      "Social smoker                      740 non-null object\n",
      "Pet                                740 non-null object\n",
      "Weight                             740 non-null float64\n",
      "Height                             740 non-null float64\n",
      "Body mass index                    740 non-null float64\n",
      "Absenteeism time in hours          740 non-null float64\n",
      "dtypes: float64(10), object(11)\n",
      "memory usage: 121.5+ KB\n"
     ]
    }
   ],
   "source": [
    "d1.info()"
   ]
  },
  {
   "cell_type": "code",
   "execution_count": 49,
   "metadata": {
    "colab": {
     "base_uri": "https://localhost:8080/",
     "height": 1000
    },
    "colab_type": "code",
    "id": "iff4-upuM6Ww",
    "outputId": "77a981e8-4749-43a0-be1b-3d2a7e31ada4"
   },
   "outputs": [
    {
     "name": "stderr",
     "output_type": "stream",
     "text": [
      "D:\\Work\\Anaconda\\lib\\site-packages\\seaborn\\categorical.py:3666: UserWarning: The `factorplot` function has been renamed to `catplot`. The original name will be removed in a future release. Please update your code. Note that the default `kind` in `factorplot` (`'point'`) has changed `'strip'` in `catplot`.\n",
      "  warnings.warn(msg)\n",
      "D:\\Work\\Anaconda\\lib\\site-packages\\seaborn\\categorical.py:3672: UserWarning: The `size` paramter has been renamed to `height`; please update your code.\n",
      "  warnings.warn(msg, UserWarning)\n",
      "D:\\Work\\Anaconda\\lib\\site-packages\\seaborn\\categorical.py:3666: UserWarning: The `factorplot` function has been renamed to `catplot`. The original name will be removed in a future release. Please update your code. Note that the default `kind` in `factorplot` (`'point'`) has changed `'strip'` in `catplot`.\n",
      "  warnings.warn(msg)\n",
      "D:\\Work\\Anaconda\\lib\\site-packages\\seaborn\\categorical.py:3672: UserWarning: The `size` paramter has been renamed to `height`; please update your code.\n",
      "  warnings.warn(msg, UserWarning)\n",
      "D:\\Work\\Anaconda\\lib\\site-packages\\seaborn\\categorical.py:3666: UserWarning: The `factorplot` function has been renamed to `catplot`. The original name will be removed in a future release. Please update your code. Note that the default `kind` in `factorplot` (`'point'`) has changed `'strip'` in `catplot`.\n",
      "  warnings.warn(msg)\n",
      "D:\\Work\\Anaconda\\lib\\site-packages\\seaborn\\categorical.py:3672: UserWarning: The `size` paramter has been renamed to `height`; please update your code.\n",
      "  warnings.warn(msg, UserWarning)\n",
      "D:\\Work\\Anaconda\\lib\\site-packages\\seaborn\\categorical.py:3666: UserWarning: The `factorplot` function has been renamed to `catplot`. The original name will be removed in a future release. Please update your code. Note that the default `kind` in `factorplot` (`'point'`) has changed `'strip'` in `catplot`.\n",
      "  warnings.warn(msg)\n",
      "D:\\Work\\Anaconda\\lib\\site-packages\\seaborn\\categorical.py:3672: UserWarning: The `size` paramter has been renamed to `height`; please update your code.\n",
      "  warnings.warn(msg, UserWarning)\n",
      "D:\\Work\\Anaconda\\lib\\site-packages\\seaborn\\categorical.py:3666: UserWarning: The `factorplot` function has been renamed to `catplot`. The original name will be removed in a future release. Please update your code. Note that the default `kind` in `factorplot` (`'point'`) has changed `'strip'` in `catplot`.\n",
      "  warnings.warn(msg)\n",
      "D:\\Work\\Anaconda\\lib\\site-packages\\seaborn\\categorical.py:3672: UserWarning: The `size` paramter has been renamed to `height`; please update your code.\n",
      "  warnings.warn(msg, UserWarning)\n",
      "D:\\Work\\Anaconda\\lib\\site-packages\\seaborn\\categorical.py:3666: UserWarning: The `factorplot` function has been renamed to `catplot`. The original name will be removed in a future release. Please update your code. Note that the default `kind` in `factorplot` (`'point'`) has changed `'strip'` in `catplot`.\n",
      "  warnings.warn(msg)\n",
      "D:\\Work\\Anaconda\\lib\\site-packages\\seaborn\\categorical.py:3672: UserWarning: The `size` paramter has been renamed to `height`; please update your code.\n",
      "  warnings.warn(msg, UserWarning)\n",
      "D:\\Work\\Anaconda\\lib\\site-packages\\seaborn\\categorical.py:3666: UserWarning: The `factorplot` function has been renamed to `catplot`. The original name will be removed in a future release. Please update your code. Note that the default `kind` in `factorplot` (`'point'`) has changed `'strip'` in `catplot`.\n",
      "  warnings.warn(msg)\n",
      "D:\\Work\\Anaconda\\lib\\site-packages\\seaborn\\categorical.py:3672: UserWarning: The `size` paramter has been renamed to `height`; please update your code.\n",
      "  warnings.warn(msg, UserWarning)\n",
      "D:\\Work\\Anaconda\\lib\\site-packages\\seaborn\\categorical.py:3666: UserWarning: The `factorplot` function has been renamed to `catplot`. The original name will be removed in a future release. Please update your code. Note that the default `kind` in `factorplot` (`'point'`) has changed `'strip'` in `catplot`.\n",
      "  warnings.warn(msg)\n",
      "D:\\Work\\Anaconda\\lib\\site-packages\\seaborn\\categorical.py:3672: UserWarning: The `size` paramter has been renamed to `height`; please update your code.\n",
      "  warnings.warn(msg, UserWarning)\n",
      "D:\\Work\\Anaconda\\lib\\site-packages\\seaborn\\categorical.py:3666: UserWarning: The `factorplot` function has been renamed to `catplot`. The original name will be removed in a future release. Please update your code. Note that the default `kind` in `factorplot` (`'point'`) has changed `'strip'` in `catplot`.\n",
      "  warnings.warn(msg)\n",
      "D:\\Work\\Anaconda\\lib\\site-packages\\seaborn\\categorical.py:3672: UserWarning: The `size` paramter has been renamed to `height`; please update your code.\n",
      "  warnings.warn(msg, UserWarning)\n",
      "D:\\Work\\Anaconda\\lib\\site-packages\\seaborn\\categorical.py:3666: UserWarning: The `factorplot` function has been renamed to `catplot`. The original name will be removed in a future release. Please update your code. Note that the default `kind` in `factorplot` (`'point'`) has changed `'strip'` in `catplot`.\n",
      "  warnings.warn(msg)\n",
      "D:\\Work\\Anaconda\\lib\\site-packages\\seaborn\\categorical.py:3672: UserWarning: The `size` paramter has been renamed to `height`; please update your code.\n",
      "  warnings.warn(msg, UserWarning)\n"
     ]
    },
    {
     "data": {
      "image/png": "[encoded data removed]",
      "text/plain": [
       "<Figure size 576x288 with 1 Axes>"
      ]
     },
     "metadata": {
      "needs_background": "light"
     },
     "output_type": "display_data"
    },
    {
     "data": {
      "image/png": "[encoded data removed]",
      "text/plain": [
       "<Figure size 576x288 with 1 Axes>"
      ]
     },
     "metadata": {
      "needs_background": "light"
     },
     "output_type": "display_data"
    },
    {
     "data": {
      "image/png": "[encoded data removed]",
      "text/plain": [
       "<Figure size 576x288 with 1 Axes>"
      ]
     },
     "metadata": {
      "needs_background": "light"
     },
     "output_type": "display_data"
    },
    {
     "data": {
      "image/png": "[encoded data removed]",
      "text/plain": [
       "<Figure size 576x288 with 1 Axes>"
      ]
     },
     "metadata": {
      "needs_background": "light"
     },
     "output_type": "display_data"
    },
    {
     "data": {
      "image/png": "[encoded data removed]",
      "text/plain": [
       "<Figure size 576x288 with 1 Axes>"
      ]
     },
     "metadata": {
      "needs_background": "light"
     },
     "output_type": "display_data"
    },
    {
     "data": {
      "image/png": "[encoded data removed]",
      "text/plain": [
       "<Figure size 576x288 with 1 Axes>"
      ]
     },
     "metadata": {
      "needs_background": "light"
     },
     "output_type": "display_data"
    },
    {
     "data": {
      "image/png": "[encoded data removed]",
      "text/plain": [
       "<Figure size 576x288 with 1 Axes>"
      ]
     },
     "metadata": {
      "needs_background": "light"
     },
     "output_type": "display_data"
    },
    {
     "data": {
      "image/png": "[encoded data removed]",
      "text/plain": [
       "<Figure size 576x288 with 1 Axes>"
      ]
     },
     "metadata": {
      "needs_background": "light"
     },
     "output_type": "display_data"
    },
    {
     "data": {
      "image/png": "[encoded data removed]",
      "text/plain": [
       "<Figure size 576x288 with 1 Axes>"
      ]
     },
     "metadata": {
      "needs_background": "light"
     },
     "output_type": "display_data"
    },
    {
     "data": {
      "image/png": "[encoded data removed]",
      "text/plain": [
       "<Figure size 576x288 with 1 Axes>"
      ]
     },
     "metadata": {
      "needs_background": "light"
     },
     "output_type": "display_data"
    }
   ],
   "source": [
    "# Creating countplot for each categorical variable as it depicts the count of each of the categories of a categorical variable.\n",
    "sb.factorplot(data=d1, x='Reason for absence', kind= 'count',size=4,aspect=2)\n",
    "sb.factorplot(data=d1, x='Seasons', kind= 'count',size=4,aspect=2)\n",
    "sb.factorplot(data=d1, x='Education', kind= 'count',size=4,aspect=2)\n",
    "sb.factorplot(data=d1, x='Disciplinary failure', kind= 'count',size=4,aspect=2)\n",
    "sb.factorplot(data=d1, x='Son', kind= 'count',size=4,aspect=2)\n",
    "sb.factorplot(data=d1, x='Pet', kind= 'count',size=4,aspect=2)\n",
    "sb.factorplot(data=d1, x='Month of absence', kind= 'count',size=4,aspect=2)\n",
    "sb.factorplot(data=d1, x='Social drinker', kind= 'count',size=4,aspect=2)\n",
    "sb.factorplot(data=d1, x='Social smoker', kind= 'count',size=4,aspect=2)\n",
    "sb.factorplot(data=d1, x='Day of the week', kind= 'count',size=4,aspect=2);"
   ]
  },
  {
   "cell_type": "markdown",
   "metadata": {
    "colab_type": "text",
    "id": "BssBIJMsiF_E"
   },
   "source": [
    "> In the figure above numerous barplots have been plotted for different categorical variables.\n",
    "> From the graph of reason for absence it is clear that majority of the employees have reason 23 as their reason for absence followed by reason 27.\n",
    "> In the barplot for "
   ]
  },
  {
   "cell_type": "code",
   "execution_count": 50,
   "metadata": {
    "colab": {
     "base_uri": "https://localhost:8080/",
     "height": 510
    },
    "colab_type": "code",
    "id": "0H8z4RxjN_XM",
    "outputId": "c1ff9317-7719-44c1-9fd3-b8a0bb62b1ca"
   },
   "outputs": [
    {
     "name": "stderr",
     "output_type": "stream",
     "text": [
      "D:\\Work\\Anaconda\\lib\\site-packages\\scipy\\stats\\stats.py:1713: FutureWarning: Using a non-tuple sequence for multidimensional indexing is deprecated; use `arr[tuple(seq)]` instead of `arr[seq]`. In the future this will be interpreted as an array index, `arr[np.array(seq)]`, which will result either in an error or a different result.\n",
      "  return np.add.reduce(sorted[indexer] * weights, axis=axis) / sumval\n"
     ]
    },
    {
     "data": {
      "image/png": "[encoded data removed]",
      "text/plain": [
       "<Figure size 2160x360 with 1 Axes>"
      ]
     },
     "metadata": {
      "needs_background": "light"
     },
     "output_type": "display_data"
    }
   ],
   "source": [
    "plt.figure(figsize=[30,5])\n",
    "sb.barplot(x='Seasons',y='Age',hue='Reason for absence',data=d1)\n",
    "plt.legend(loc='best');"
   ]
  },
  {
   "cell_type": "code",
   "execution_count": 51,
   "metadata": {
    "colab": {
     "base_uri": "https://localhost:8080/",
     "height": 645
    },
    "colab_type": "code",
    "id": "WIhlvY0T3i7A",
    "outputId": "8e806bd2-dc2f-4284-cef1-ee23308cc9dd"
   },
   "outputs": [
    {
     "data": {
      "image/png": "[encoded data removed]",
      "text/plain": [
       "<Figure size 1440x576 with 2 Axes>"
      ]
     },
     "metadata": {
      "needs_background": "light"
     },
     "output_type": "display_data"
    }
   ],
   "source": [
    "import seaborn as sb\n",
    "f, ax = plt.subplots(figsize=(20, 8))\n",
    "corr = d1.corr()\n",
    "sb.heatmap(corr, mask=np.zeros_like(corr,dtype=np.bool),cmap=sb.diverging_palette(220, 10, as_cmap=True),annot=True,ax=ax,);"
   ]
  },
  {
   "cell_type": "code",
   "execution_count": 52,
   "metadata": {
    "colab": {
     "base_uri": "https://localhost:8080/",
     "height": 187
    },
    "colab_type": "code",
    "id": "SwhlyYNYXJOK",
    "outputId": "b6aaac69-4a44-44ba-8c9d-2cb9857a5b6d"
   },
   "outputs": [
    {
     "name": "stdout",
     "output_type": "stream",
     "text": [
      "P value for variable Reason for absence is 2.85299534922044e-88\n",
      "P value for variable Month of absence is 0.22859687189411457\n",
      "P value for variable Education is 8.292743655867822e-29\n",
      "P value for variable Social drinker is 5.7870409830809054e-36\n",
      "P value for variable Social smoker is 2.7742582605911144e-41\n",
      "P value for variable Seasons is 3.8393046151136395e-18\n",
      "P value for variable Disciplinary failure is 1.6473375572712707e-41\n",
      "P value for variable Day of the week is 2.643503584567156e-09\n",
      "P value for variable Pet is 6.35495088656517e-34\n",
      "P value for variable Son is 2.539330378162696e-31\n"
     ]
    }
   ],
   "source": [
    "from scipy import stats\n",
    "cat_names=['Reason for absence','Month of absence','Education','Social drinker','Social smoker','Seasons','Disciplinary failure','Day of the week','Pet','Son']\n",
    "for i in cat_names:\n",
    "    f, p = stats.f_oneway(d1[i], d1[\"Absenteeism time in hours\"])\n",
    "    print(\"P value for variable \"+str(i)+\" is \"+str(p))"
   ]
  },
  {
   "cell_type": "code",
   "execution_count": 53,
   "metadata": {
    "colab": {},
    "colab_type": "code",
    "id": "psNipOoDvJyp"
   },
   "outputs": [],
   "source": [
    "d1=d1.drop(['Weight','Month of absence'],axis=1)"
   ]
  },
  {
   "cell_type": "code",
   "execution_count": 54,
   "metadata": {
    "colab": {
     "base_uri": "https://localhost:8080/",
     "height": 425
    },
    "colab_type": "code",
    "id": "90auPOpOvPui",
    "outputId": "711f30f3-808c-47b6-b914-889f7a48d0ea"
   },
   "outputs": [
    {
     "name": "stdout",
     "output_type": "stream",
     "text": [
      "<class 'pandas.core.frame.DataFrame'>\n",
      "RangeIndex: 740 entries, 0 to 739\n",
      "Data columns (total 19 columns):\n",
      "ID                                 740 non-null object\n",
      "Reason for absence                 740 non-null object\n",
      "Day of the week                    740 non-null object\n",
      "Seasons                            740 non-null object\n",
      "Transportation expense             740 non-null float64\n",
      "Distance from Residence to Work    740 non-null float64\n",
      "Service time                       740 non-null float64\n",
      "Age                                740 non-null float64\n",
      "Work load Average/day              740 non-null float64\n",
      "Hit target                         740 non-null float64\n",
      "Disciplinary failure               740 non-null object\n",
      "Education                          740 non-null object\n",
      "Son                                740 non-null object\n",
      "Social drinker                     740 non-null object\n",
      "Social smoker                      740 non-null object\n",
      "Pet                                740 non-null object\n",
      "Height                             740 non-null float64\n",
      "Body mass index                    740 non-null float64\n",
      "Absenteeism time in hours          740 non-null float64\n",
      "dtypes: float64(9), object(10)\n",
      "memory usage: 109.9+ KB\n"
     ]
    }
   ],
   "source": [
    "d1.info()"
   ]
  },
  {
   "cell_type": "code",
   "execution_count": 55,
   "metadata": {
    "colab": {},
    "colab_type": "code",
    "id": "AlE6KZ3x-5qC"
   },
   "outputs": [],
   "source": [
    "d=d1.copy()"
   ]
  },
  {
   "cell_type": "markdown",
   "metadata": {
    "colab_type": "text",
    "id": "owfYQ0PX2fFP"
   },
   "source": [
    "# Feature Scaling"
   ]
  },
  {
   "cell_type": "code",
   "execution_count": 56,
   "metadata": {
    "colab": {},
    "colab_type": "code",
    "id": "tovhvWDy2UZJ"
   },
   "outputs": [],
   "source": [
    "# Checking for normality of continuous variables"
   ]
  },
  {
   "cell_type": "code",
   "execution_count": 57,
   "metadata": {
    "colab": {
     "base_uri": "https://localhost:8080/",
     "height": 170
    },
    "colab_type": "code",
    "id": "9ee7ZK_vviUE",
    "outputId": "67927622-582c-497e-ce7b-1599a26e43a1"
   },
   "outputs": [
    {
     "data": {
      "text/plain": [
       "['Transportation expense',\n",
       " 'Distance from Residence to Work',\n",
       " 'Service time',\n",
       " 'Age',\n",
       " 'Work load Average/day ',\n",
       " 'Hit target',\n",
       " 'Weight',\n",
       " 'Height',\n",
       " 'Body mass index']"
      ]
     },
     "execution_count": 57,
     "metadata": {},
     "output_type": "execute_result"
    }
   ],
   "source": [
    "cnames"
   ]
  },
  {
   "cell_type": "code",
   "execution_count": 58,
   "metadata": {
    "colab": {},
    "colab_type": "code",
    "id": "WUw7VMnAvkpH"
   },
   "outputs": [],
   "source": [
    "# Updating continuous columns list \n",
    "cnames=['Transportation expense','Distance from Residence to Work','Age','Work load Average/day ','Hit target','Height','Body mass index',\n",
    "        'Absenteeism time in hours']"
   ]
  },
  {
   "cell_type": "code",
   "execution_count": 59,
   "metadata": {
    "colab": {
     "base_uri": "https://localhost:8080/",
     "height": 1000
    },
    "colab_type": "code",
    "id": "sKUBEc_M2vUC",
    "outputId": "7b90bf52-5844-463c-8218-fdc3239d8868"
   },
   "outputs": [
    {
     "data": {
      "image/png": "[encoded data removed]",
      "text/plain": [
       "<Figure size 432x288 with 1 Axes>"
      ]
     },
     "metadata": {
      "needs_background": "light"
     },
     "output_type": "display_data"
    },
    {
     "data": {
      "image/png": "[encoded data removed]",
      "text/plain": [
       "<Figure size 432x288 with 1 Axes>"
      ]
     },
     "metadata": {
      "needs_background": "light"
     },
     "output_type": "display_data"
    },
    {
     "data": {
      "image/png": "[encoded data removed]",
      "text/plain": [
       "<Figure size 432x288 with 1 Axes>"
      ]
     },
     "metadata": {
      "needs_background": "light"
     },
     "output_type": "display_data"
    },
    {
     "data": {
      "image/png": "[encoded data removed]",
      "text/plain": [
       "<Figure size 432x288 with 1 Axes>"
      ]
     },
     "metadata": {
      "needs_background": "light"
     },
     "output_type": "display_data"
    },
    {
     "data": {
      "image/png": "[encoded data removed]",
      "text/plain": [
       "<Figure size 432x288 with 1 Axes>"
      ]
     },
     "metadata": {
      "needs_background": "light"
     },
     "output_type": "display_data"
    },
    {
     "data": {
      "image/png": "[encoded data removed]",
      "text/plain": [
       "<Figure size 432x288 with 1 Axes>"
      ]
     },
     "metadata": {
      "needs_background": "light"
     },
     "output_type": "display_data"
    },
    {
     "data": {
      "image/png": "[encoded data removed]",
      "text/plain": [
       "<Figure size 432x288 with 1 Axes>"
      ]
     },
     "metadata": {
      "needs_background": "light"
     },
     "output_type": "display_data"
    }
   ],
   "source": [
    "for i in cnames:\n",
    "    if i == 'Absenteeism time in hours':\n",
    "        continue\n",
    "    sb.distplot(d1[i],bins = 'auto')\n",
    "    plt.title(\"Checking Distribution for Variable \"+str(i))\n",
    "    plt.ylabel(\"Density\")\n",
    "    plt.show()"
   ]
  },
  {
   "cell_type": "code",
   "execution_count": 60,
   "metadata": {
    "colab": {},
    "colab_type": "code",
    "id": "Tg1HE6G53AZx"
   },
   "outputs": [],
   "source": [
    "# As all of the below variables appear not nomalised so we need to normalise all the variables except the target variable"
   ]
  },
  {
   "cell_type": "code",
   "execution_count": 61,
   "metadata": {
    "colab": {},
    "colab_type": "code",
    "id": "slaZDQz83kMp"
   },
   "outputs": [],
   "source": [
    "for i in cnames:\n",
    "    if i == 'Absenteeism time in hours':\n",
    "        continue\n",
    "    d1[i] = (d1[i] - d1[i].min())/(d1[i].max()-d1[i].min())"
   ]
  },
  {
   "cell_type": "code",
   "execution_count": 62,
   "metadata": {
    "colab": {
     "base_uri": "https://localhost:8080/",
     "height": 213
    },
    "colab_type": "code",
    "id": "uPZvqevz_Gok",
    "outputId": "0e0ebddf-f161-47c9-98d0-cfb400fbf9af"
   },
   "outputs": [
    {
     "data": {
      "text/html": [
       "<div>\n",
       "<style scoped>\n",
       "    .dataframe tbody tr th:only-of-type {\n",
       "        vertical-align: middle;\n",
       "    }\n",
       "\n",
       "    .dataframe tbody tr th {\n",
       "        vertical-align: top;\n",
       "    }\n",
       "\n",
       "    .dataframe thead th {\n",
       "        text-align: right;\n",
       "    }\n",
       "</style>\n",
       "<table border=\"1\" class=\"dataframe\">\n",
       "  <thead>\n",
       "    <tr style=\"text-align: right;\">\n",
       "      <th></th>\n",
       "      <th>ID</th>\n",
       "      <th>Reason for absence</th>\n",
       "      <th>Day of the week</th>\n",
       "      <th>Seasons</th>\n",
       "      <th>Transportation expense</th>\n",
       "      <th>Distance from Residence to Work</th>\n",
       "      <th>Service time</th>\n",
       "      <th>Age</th>\n",
       "      <th>Work load Average/day</th>\n",
       "      <th>Hit target</th>\n",
       "      <th>Disciplinary failure</th>\n",
       "      <th>Education</th>\n",
       "      <th>Son</th>\n",
       "      <th>Social drinker</th>\n",
       "      <th>Social smoker</th>\n",
       "      <th>Pet</th>\n",
       "      <th>Height</th>\n",
       "      <th>Body mass index</th>\n",
       "      <th>Absenteeism time in hours</th>\n",
       "    </tr>\n",
       "  </thead>\n",
       "  <tbody>\n",
       "    <tr>\n",
       "      <th>0</th>\n",
       "      <td>11</td>\n",
       "      <td>23</td>\n",
       "      <td>3</td>\n",
       "      <td>1</td>\n",
       "      <td>0.406072</td>\n",
       "      <td>0.446809</td>\n",
       "      <td>13.0</td>\n",
       "      <td>0.377358</td>\n",
       "      <td>0.417746</td>\n",
       "      <td>0.615385</td>\n",
       "      <td>0</td>\n",
       "      <td>1</td>\n",
       "      <td>1</td>\n",
       "      <td>1</td>\n",
       "      <td>0</td>\n",
       "      <td>0</td>\n",
       "      <td>0.458333</td>\n",
       "      <td>0.315789</td>\n",
       "      <td>3.0</td>\n",
       "    </tr>\n",
       "    <tr>\n",
       "      <th>1</th>\n",
       "      <td>36</td>\n",
       "      <td>0</td>\n",
       "      <td>3</td>\n",
       "      <td>1</td>\n",
       "      <td>0.000000</td>\n",
       "      <td>0.170213</td>\n",
       "      <td>18.0</td>\n",
       "      <td>0.867925</td>\n",
       "      <td>0.240892</td>\n",
       "      <td>0.769231</td>\n",
       "      <td>1</td>\n",
       "      <td>1</td>\n",
       "      <td>1</td>\n",
       "      <td>1</td>\n",
       "      <td>0</td>\n",
       "      <td>0</td>\n",
       "      <td>1.000000</td>\n",
       "      <td>0.631579</td>\n",
       "      <td>0.0</td>\n",
       "    </tr>\n",
       "    <tr>\n",
       "      <th>2</th>\n",
       "      <td>3</td>\n",
       "      <td>23</td>\n",
       "      <td>4</td>\n",
       "      <td>1</td>\n",
       "      <td>0.231499</td>\n",
       "      <td>0.978723</td>\n",
       "      <td>18.0</td>\n",
       "      <td>0.415094</td>\n",
       "      <td>0.240892</td>\n",
       "      <td>0.769231</td>\n",
       "      <td>0</td>\n",
       "      <td>1</td>\n",
       "      <td>0</td>\n",
       "      <td>1</td>\n",
       "      <td>0</td>\n",
       "      <td>0</td>\n",
       "      <td>0.458333</td>\n",
       "      <td>0.631579</td>\n",
       "      <td>2.0</td>\n",
       "    </tr>\n",
       "  </tbody>\n",
       "</table>\n",
       "</div>"
      ],
      "text/plain": [
       "   ID Reason for absence Day of the week Seasons  Transportation expense  \\\n",
       "0  11                 23               3       1                0.406072   \n",
       "1  36                  0               3       1                0.000000   \n",
       "2   3                 23               4       1                0.231499   \n",
       "\n",
       "   Distance from Residence to Work  Service time       Age  \\\n",
       "0                         0.446809          13.0  0.377358   \n",
       "1                         0.170213          18.0  0.867925   \n",
       "2                         0.978723          18.0  0.415094   \n",
       "\n",
       "   Work load Average/day   Hit target Disciplinary failure Education Son  \\\n",
       "0                0.417746    0.615385                    0         1   1   \n",
       "1                0.240892    0.769231                    1         1   1   \n",
       "2                0.240892    0.769231                    0         1   0   \n",
       "\n",
       "  Social drinker Social smoker Pet    Height  Body mass index  \\\n",
       "0              1             0   0  0.458333         0.315789   \n",
       "1              1             0   0  1.000000         0.631579   \n",
       "2              1             0   0  0.458333         0.631579   \n",
       "\n",
       "   Absenteeism time in hours  \n",
       "0                        3.0  \n",
       "1                        0.0  \n",
       "2                        2.0  "
      ]
     },
     "execution_count": 62,
     "metadata": {},
     "output_type": "execute_result"
    }
   ],
   "source": [
    "d1.head(3)"
   ]
  },
  {
   "cell_type": "markdown",
   "metadata": {
    "colab_type": "text",
    "id": "8zt1L6pw4Ph_"
   },
   "source": [
    "### Machine Learning"
   ]
  },
  {
   "cell_type": "code",
   "execution_count": 63,
   "metadata": {
    "colab": {
     "base_uri": "https://localhost:8080/",
     "height": 187
    },
    "colab_type": "code",
    "id": "AzsDyeKryb0z",
    "outputId": "3ab8c9f4-821f-48bc-91ba-1242ee520eed"
   },
   "outputs": [
    {
     "data": {
      "text/plain": [
       "['Reason for absence',\n",
       " 'Month of absence',\n",
       " 'Education',\n",
       " 'Social drinker',\n",
       " 'Social smoker',\n",
       " 'Seasons',\n",
       " 'Disciplinary failure',\n",
       " 'Day of the week',\n",
       " 'Pet',\n",
       " 'Son']"
      ]
     },
     "execution_count": 63,
     "metadata": {},
     "output_type": "execute_result"
    }
   ],
   "source": [
    "cat_names"
   ]
  },
  {
   "cell_type": "code",
   "execution_count": 64,
   "metadata": {
    "colab": {},
    "colab_type": "code",
    "id": "xUroVFUhybVc"
   },
   "outputs": [],
   "source": [
    "cat_names=['Reason for absence','Education','Social drinker','Social smoker','Seasons','Disciplinary failure','Day of the week','Pet','Son']"
   ]
  },
  {
   "cell_type": "code",
   "execution_count": 65,
   "metadata": {
    "colab": {
     "base_uri": "https://localhost:8080/",
     "height": 459
    },
    "colab_type": "code",
    "id": "6fAcURfQRJxQ",
    "outputId": "7f187220-a2dc-4ce6-8d0f-040832caa0e6"
   },
   "outputs": [
    {
     "name": "stdout",
     "output_type": "stream",
     "text": [
      "<class 'pandas.core.frame.DataFrame'>\n",
      "RangeIndex: 740 entries, 0 to 739\n",
      "Data columns (total 21 columns):\n",
      "ID                                 740 non-null object\n",
      "Reason for absence                 740 non-null object\n",
      "Month of absence                   740 non-null object\n",
      "Day of the week                    740 non-null object\n",
      "Seasons                            740 non-null object\n",
      "Transportation expense             740 non-null float64\n",
      "Distance from Residence to Work    740 non-null float64\n",
      "Service time                       740 non-null float64\n",
      "Age                                740 non-null float64\n",
      "Work load Average/day              740 non-null float64\n",
      "Hit target                         740 non-null float64\n",
      "Disciplinary failure               740 non-null object\n",
      "Education                          740 non-null object\n",
      "Son                                740 non-null object\n",
      "Social drinker                     740 non-null object\n",
      "Social smoker                      740 non-null object\n",
      "Pet                                740 non-null object\n",
      "Weight                             740 non-null float64\n",
      "Height                             740 non-null float64\n",
      "Body mass index                    740 non-null float64\n",
      "Absenteeism time in hours          740 non-null float64\n",
      "dtypes: float64(10), object(11)\n",
      "memory usage: 121.5+ KB\n"
     ]
    }
   ],
   "source": [
    "df1.info()"
   ]
  },
  {
   "cell_type": "code",
   "execution_count": 109,
   "metadata": {
    "colab": {},
    "colab_type": "code",
    "id": "I3ldSioWxlz8"
   },
   "outputs": [],
   "source": [
    "# Adding dummies for categorical variables and simlutaneously deleting the first dummy variable so as to avoid\n",
    "# linear dependency.\n",
    "d1_new=pd.get_dummies(data=d1,columns=cat_names,drop_first=True)"
   ]
  },
  {
   "cell_type": "code",
   "execution_count": 110,
   "metadata": {
    "colab": {
     "base_uri": "https://localhost:8080/",
     "height": 1000
    },
    "colab_type": "code",
    "id": "V7amCoGwVD1w",
    "outputId": "b2a46c51-79fc-42db-9788-17be47651700"
   },
   "outputs": [
    {
     "name": "stdout",
     "output_type": "stream",
     "text": [
      "<class 'pandas.core.frame.DataFrame'>\n",
      "RangeIndex: 740 entries, 0 to 739\n",
      "Data columns (total 59 columns):\n",
      "ID                                 740 non-null object\n",
      "Transportation expense             740 non-null float64\n",
      "Distance from Residence to Work    740 non-null float64\n",
      "Service time                       740 non-null float64\n",
      "Age                                740 non-null float64\n",
      "Work load Average/day              740 non-null float64\n",
      "Hit target                         740 non-null float64\n",
      "Height                             740 non-null float64\n",
      "Body mass index                    740 non-null float64\n",
      "Absenteeism time in hours          740 non-null float64\n",
      "Reason for absence_1               740 non-null uint8\n",
      "Reason for absence_10              740 non-null uint8\n",
      "Reason for absence_11              740 non-null uint8\n",
      "Reason for absence_12              740 non-null uint8\n",
      "Reason for absence_13              740 non-null uint8\n",
      "Reason for absence_14              740 non-null uint8\n",
      "Reason for absence_15              740 non-null uint8\n",
      "Reason for absence_16              740 non-null uint8\n",
      "Reason for absence_17              740 non-null uint8\n",
      "Reason for absence_18              740 non-null uint8\n",
      "Reason for absence_19              740 non-null uint8\n",
      "Reason for absence_2               740 non-null uint8\n",
      "Reason for absence_21              740 non-null uint8\n",
      "Reason for absence_22              740 non-null uint8\n",
      "Reason for absence_23              740 non-null uint8\n",
      "Reason for absence_24              740 non-null uint8\n",
      "Reason for absence_25              740 non-null uint8\n",
      "Reason for absence_26              740 non-null uint8\n",
      "Reason for absence_27              740 non-null uint8\n",
      "Reason for absence_28              740 non-null uint8\n",
      "Reason for absence_3               740 non-null uint8\n",
      "Reason for absence_4               740 non-null uint8\n",
      "Reason for absence_5               740 non-null uint8\n",
      "Reason for absence_6               740 non-null uint8\n",
      "Reason for absence_7               740 non-null uint8\n",
      "Reason for absence_8               740 non-null uint8\n",
      "Reason for absence_9               740 non-null uint8\n",
      "Education_2                        740 non-null uint8\n",
      "Education_3                        740 non-null uint8\n",
      "Education_4                        740 non-null uint8\n",
      "Social drinker_1                   740 non-null uint8\n",
      "Social smoker_1                    740 non-null uint8\n",
      "Seasons_2                          740 non-null uint8\n",
      "Seasons_3                          740 non-null uint8\n",
      "Seasons_4                          740 non-null uint8\n",
      "Disciplinary failure_1             740 non-null uint8\n",
      "Day of the week_3                  740 non-null uint8\n",
      "Day of the week_4                  740 non-null uint8\n",
      "Day of the week_5                  740 non-null uint8\n",
      "Day of the week_6                  740 non-null uint8\n",
      "Pet_1                              740 non-null uint8\n",
      "Pet_2                              740 non-null uint8\n",
      "Pet_4                              740 non-null uint8\n",
      "Pet_5                              740 non-null uint8\n",
      "Pet_8                              740 non-null uint8\n",
      "Son_1                              740 non-null uint8\n",
      "Son_2                              740 non-null uint8\n",
      "Son_3                              740 non-null uint8\n",
      "Son_4                              740 non-null uint8\n",
      "dtypes: float64(9), object(1), uint8(49)\n",
      "memory usage: 93.3+ KB\n"
     ]
    }
   ],
   "source": [
    "d1_new.info()"
   ]
  },
  {
   "cell_type": "code",
   "execution_count": 112,
   "metadata": {},
   "outputs": [],
   "source": [
    "import statsmodels.formula.api as smf\n",
    "\n",
    "def forward_selected(data, response):\n",
    "    \"\"\"Linear model designed by forward selection.\n",
    "\n",
    "    Parameters:\n",
    "    -----------\n",
    "    data : pandas DataFrame with all possible predictors and response\n",
    "\n",
    "    response: string, name of response column in data\n",
    "\n",
    "    Returns:\n",
    "    --------\n",
    "    model: an \"optimal\" fitted statsmodels linear model\n",
    "           with an intercept\n",
    "           selected by forward selection\n",
    "           evaluated by adjusted R-squared\n",
    "    \"\"\"\n",
    "    remaining = set(data.columns)\n",
    "    remaining.remove(response)\n",
    "    selected = []\n",
    "    current_score, best_new_score = 0.0, 0.0\n",
    "    while remaining and current_score == best_new_score:\n",
    "        scores_with_candidates = []\n",
    "        for candidate in remaining:\n",
    "            formula = \"{} ~ {} + 1\".format(response,\n",
    "                                           ' + '.join(selected + [candidate]))\n",
    "            score = smf.ols(formula, data).fit().rsquared_adj\n",
    "            scores_with_candidates.append((score, candidate))\n",
    "        scores_with_candidates.sort()\n",
    "        best_new_score, best_candidate = scores_with_candidates.pop()\n",
    "        if current_score < best_new_score:\n",
    "            remaining.remove(best_candidate)\n",
    "            selected.append(best_candidate)\n",
    "            current_score = best_new_score\n",
    "    formula = \"{} ~ {} + 1\".format(response,\n",
    "                                   ' + '.join(selected))\n",
    "    model = smf.ols(formula, data).fit()\n",
    "    return model\n"
   ]
  },
  {
   "cell_type": "code",
   "execution_count": 125,
   "metadata": {},
   "outputs": [
    {
     "data": {
      "text/plain": [
       "Index(['ID', 'Transportationexpense', 'DistancefromResidencetoWork',\n",
       "       'Servicetime', 'Age', 'WorkloadAverageday', 'Hittarget', 'Height',\n",
       "       'Bodymassindex', 'Absenteeismtimeinhours', 'Reasonforabsence_1',\n",
       "       'Reasonforabsence_10', 'Reasonforabsence_11', 'Reasonforabsence_12',\n",
       "       'Reasonforabsence_13', 'Reasonforabsence_14', 'Reasonforabsence_15',\n",
       "       'Reasonforabsence_16', 'Reasonforabsence_17', 'Reasonforabsence_18',\n",
       "       'Reasonforabsence_19', 'Reasonforabsence_2', 'Reasonforabsence_21',\n",
       "       'Reasonforabsence_22', 'Reasonforabsence_23', 'Reasonforabsence_24',\n",
       "       'Reasonforabsence_25', 'Reasonforabsence_26', 'Reasonforabsence_27',\n",
       "       'Reasonforabsence_28', 'Reasonforabsence_3', 'Reasonforabsence_4',\n",
       "       'Reasonforabsence_5', 'Reasonforabsence_6', 'Reasonforabsence_7',\n",
       "       'Reasonforabsence_8', 'Reasonforabsence_9', 'Education_2',\n",
       "       'Education_3', 'Education_4', 'Socialdrinker_1', 'Socialsmoker_1',\n",
       "       'Seasons_2', 'Seasons_3', 'Seasons_4', 'Disciplinaryfailure_1',\n",
       "       'Dayoftheweek_3', 'Dayoftheweek_4', 'Dayoftheweek_5', 'Dayoftheweek_6',\n",
       "       'Pet_1', 'Pet_2', 'Pet_4', 'Pet_5', 'Pet_8', 'Son_1', 'Son_2', 'Son_3',\n",
       "       'Son_4'],\n",
       "      dtype='object')"
      ]
     },
     "execution_count": 125,
     "metadata": {},
     "output_type": "execute_result"
    }
   ],
   "source": [
    "d1_new.columns"
   ]
  },
  {
   "cell_type": "code",
   "execution_count": 126,
   "metadata": {},
   "outputs": [],
   "source": [
    "f=d1_new[['Transportationexpense', 'DistancefromResidencetoWork',\n",
    "       'Servicetime', 'Age', 'WorkloadAverageday', 'Hittarget', 'Height',\n",
    "       'Bodymassindex', 'Absenteeismtimeinhours', 'Reasonforabsence_1',\n",
    "       'Reasonforabsence_10', 'Reasonforabsence_11',\n",
    "       'Reasonforabsence_12', 'Reasonforabsence_13',\n",
    "       'Reasonforabsence_14', 'Reasonforabsence_15',\n",
    "       'Reasonforabsence_16', 'Reasonforabsence_17',\n",
    "       'Reasonforabsence_18', 'Reasonforabsence_19',\n",
    "       'Reasonforabsence_2', 'Reasonforabsence_21',\n",
    "       'Reasonforabsence_22', 'Reasonforabsence_23',\n",
    "       'Reasonforabsence_24', 'Reasonforabsence_25',\n",
    "       'Reasonforabsence_26', 'Reasonforabsence_27',\n",
    "       'Reasonforabsence_28', 'Reasonforabsence_3', 'Reasonforabsence_4',\n",
    "       'Reasonforabsence_5', 'Reasonforabsence_6', 'Reasonforabsence_7',\n",
    "       'Reasonforabsence_8', 'Reasonforabsence_9', 'Education_2',\n",
    "       'Education_3', 'Education_4', 'Socialdrinker_1', 'Socialsmoker_1',\n",
    "       'Seasons_2', 'Seasons_3', 'Seasons_4', 'Disciplinaryfailure_1',\n",
    "       'Dayoftheweek_3', 'Dayoftheweek_4', 'Dayoftheweek_5',\n",
    "       'Dayoftheweek_6', 'Pet_1', 'Pet_2', 'Pet_4', 'Pet_5', 'Pet_8',\n",
    "       'Son_1', 'Son_2', 'Son_3', 'Son_4']]"
   ]
  },
  {
   "cell_type": "code",
   "execution_count": 127,
   "metadata": {},
   "outputs": [],
   "source": [
    "model = forward_selected(f, 'Absenteeismtimeinhours')"
   ]
  },
  {
   "cell_type": "code",
   "execution_count": null,
   "metadata": {},
   "outputs": [],
   "source": [
    "model = forward_selected(data, 'sl')"
   ]
  },
  {
   "cell_type": "code",
   "execution_count": 128,
   "metadata": {},
   "outputs": [
    {
     "name": "stdout",
     "output_type": "stream",
     "text": [
      "Absenteeismtimeinhours ~ Reasonforabsence_19 + Reasonforabsence_9 + Reasonforabsence_13 + Reasonforabsence_12 + Son_2 + Reasonforabsence_6 + Reasonforabsence_10 + Dayoftheweek_5 + DistancefromResidencetoWork + Socialdrinker_1 + Reasonforabsence_1 + Reasonforabsence_18 + Reasonforabsence_7 + Reasonforabsence_2 + Pet_8 + Reasonforabsence_22 + Reasonforabsence_11 + Reasonforabsence_14 + Education_4 + Hittarget + Bodymassindex + Age + Reasonforabsence_26 + Dayoftheweek_6 + WorkloadAverageday + Dayoftheweek_4 + Pet_2 + Son_3 + 1\n"
     ]
    }
   ],
   "source": [
    "print(model.model.formula)"
   ]
  },
  {
   "cell_type": "code",
   "execution_count": 129,
   "metadata": {},
   "outputs": [
    {
     "name": "stdout",
     "output_type": "stream",
     "text": [
      "0.2097276661174282\n"
     ]
    }
   ],
   "source": [
    "print(model.rsquared_adj)"
   ]
  },
  {
   "cell_type": "code",
   "execution_count": null,
   "metadata": {},
   "outputs": [],
   "source": []
  },
  {
   "cell_type": "code",
   "execution_count": 68,
   "metadata": {
    "colab": {},
    "colab_type": "code",
    "id": "XrTDMYY4XuvZ"
   },
   "outputs": [],
   "source": [
    "from sklearn.model_selection import train_test_split"
   ]
  },
  {
   "cell_type": "code",
   "execution_count": 111,
   "metadata": {
    "colab": {
     "base_uri": "https://localhost:8080/",
     "height": 374
    },
    "colab_type": "code",
    "id": "dpIeiUFcZiOi",
    "outputId": "7d7fd7b1-213a-4817-98d9-00e717268ecc"
   },
   "outputs": [
    {
     "data": {
      "text/plain": [
       "Index(['ID', 'Transportation expense', 'Distance from Residence to Work',\n",
       "       'Service time', 'Age', 'Work load Average/day ', 'Hit target', 'Height',\n",
       "       'Body mass index', 'Absenteeism time in hours', 'Reason for absence_1',\n",
       "       'Reason for absence_10', 'Reason for absence_11',\n",
       "       'Reason for absence_12', 'Reason for absence_13',\n",
       "       'Reason for absence_14', 'Reason for absence_15',\n",
       "       'Reason for absence_16', 'Reason for absence_17',\n",
       "       'Reason for absence_18', 'Reason for absence_19',\n",
       "       'Reason for absence_2', 'Reason for absence_21',\n",
       "       'Reason for absence_22', 'Reason for absence_23',\n",
       "       'Reason for absence_24', 'Reason for absence_25',\n",
       "       'Reason for absence_26', 'Reason for absence_27',\n",
       "       'Reason for absence_28', 'Reason for absence_3', 'Reason for absence_4',\n",
       "       'Reason for absence_5', 'Reason for absence_6', 'Reason for absence_7',\n",
       "       'Reason for absence_8', 'Reason for absence_9', 'Education_2',\n",
       "       'Education_3', 'Education_4', 'Social drinker_1', 'Social smoker_1',\n",
       "       'Seasons_2', 'Seasons_3', 'Seasons_4', 'Disciplinary failure_1',\n",
       "       'Day of the week_3', 'Day of the week_4', 'Day of the week_5',\n",
       "       'Day of the week_6', 'Pet_1', 'Pet_2', 'Pet_4', 'Pet_5', 'Pet_8',\n",
       "       'Son_1', 'Son_2', 'Son_3', 'Son_4'],\n",
       "      dtype='object')"
      ]
     },
     "execution_count": 111,
     "metadata": {},
     "output_type": "execute_result"
    }
   ],
   "source": [
    "d1_new.columns"
   ]
  },
  {
   "cell_type": "code",
   "execution_count": 70,
   "metadata": {
    "colab": {},
    "colab_type": "code",
    "id": "JcKFuNLyZNbX"
   },
   "outputs": [],
   "source": [
    "X=d1_new[['Transportation expense', 'Distance from Residence to Work',\n",
    "       'Age', 'Work load Average/day ', 'Hit target', 'Height',\n",
    "       'Body mass index', 'Reason for absence_1',\n",
    "       'Reason for absence_10', 'Reason for absence_11',\n",
    "       'Reason for absence_12', 'Reason for absence_13',\n",
    "       'Reason for absence_14', 'Reason for absence_15',\n",
    "       'Reason for absence_16', 'Reason for absence_17',\n",
    "       'Reason for absence_18', 'Reason for absence_19',\n",
    "       'Reason for absence_2', 'Reason for absence_21',\n",
    "       'Reason for absence_22', 'Reason for absence_23',\n",
    "       'Reason for absence_24', 'Reason for absence_25',\n",
    "       'Reason for absence_26', 'Reason for absence_27',\n",
    "       'Reason for absence_28', 'Reason for absence_3', 'Reason for absence_4',\n",
    "       'Reason for absence_5', 'Reason for absence_6', 'Reason for absence_7',\n",
    "       'Reason for absence_8', 'Reason for absence_9', 'Education_2',\n",
    "       'Education_3', 'Education_4', 'Social drinker_1', 'Social smoker_1',\n",
    "       'Seasons_2', 'Seasons_3', 'Seasons_4', 'Disciplinary failure_1',\n",
    "       'Day of the week_3', 'Day of the week_4', 'Day of the week_5',\n",
    "       'Day of the week_6', 'Pet_1', 'Pet_2', 'Pet_4', 'Pet_5', 'Pet_8',\n",
    "       'Son_1', 'Son_2', 'Son_3', 'Son_4']]\n",
    "y=d1_new['Absenteeism time in hours']       "
   ]
  },
  {
   "cell_type": "code",
   "execution_count": 71,
   "metadata": {
    "colab": {},
    "colab_type": "code",
    "id": "bQZxw8b1YOz8"
   },
   "outputs": [],
   "source": [
    "X_train, X_test, y_train, y_test = train_test_split( X,y, test_size = 0.20, random_state = 1)"
   ]
  },
  {
   "cell_type": "code",
   "execution_count": 72,
   "metadata": {
    "colab": {},
    "colab_type": "code",
    "id": "swd3xr1He02L"
   },
   "outputs": [],
   "source": [
    "# Decision Tree\n",
    "from sklearn.tree import DecisionTreeRegressor"
   ]
  },
  {
   "cell_type": "code",
   "execution_count": 73,
   "metadata": {
    "colab": {
     "base_uri": "https://localhost:8080/",
     "height": 34
    },
    "colab_type": "code",
    "id": "6w7KGOLqJKN4",
    "outputId": "f4004840-d624-4af2-b1a5-dffce9e6ba33"
   },
   "outputs": [
    {
     "data": {
      "text/plain": [
       "(592, 56)"
      ]
     },
     "execution_count": 73,
     "metadata": {},
     "output_type": "execute_result"
    }
   ],
   "source": [
    "X_train.shape"
   ]
  },
  {
   "cell_type": "code",
   "execution_count": 74,
   "metadata": {
    "colab": {
     "base_uri": "https://localhost:8080/",
     "height": 102
    },
    "colab_type": "code",
    "id": "YSde0LVeZ5TY",
    "outputId": "b94c8c60-66e2-46de-f496-4cdba0c3bcd2"
   },
   "outputs": [
    {
     "data": {
      "text/plain": [
       "DecisionTreeRegressor(criterion='mse', max_depth=2, max_features=None,\n",
       "           max_leaf_nodes=None, min_impurity_decrease=0.0,\n",
       "           min_impurity_split=None, min_samples_leaf=1,\n",
       "           min_samples_split=2, min_weight_fraction_leaf=0.0,\n",
       "           presort=False, random_state=1, splitter='best')"
      ]
     },
     "execution_count": 74,
     "metadata": {},
     "output_type": "execute_result"
    }
   ],
   "source": [
    "regressor = DecisionTreeRegressor(random_state = 1,max_depth=2)\n",
    "regressor.fit(X_train, y_train)"
   ]
  },
  {
   "cell_type": "code",
   "execution_count": 75,
   "metadata": {
    "colab": {},
    "colab_type": "code",
    "id": "vJvaw7f2YZnh"
   },
   "outputs": [],
   "source": [
    "# Importing the error metric\n",
    "from sklearn.metrics import mean_squared_error"
   ]
  },
  {
   "cell_type": "code",
   "execution_count": 76,
   "metadata": {
    "colab": {},
    "colab_type": "code",
    "id": "ezgfF4t6fW7m"
   },
   "outputs": [],
   "source": [
    "# Predicting on training and testing set\n",
    "pred_DT_test=regressor.predict(X_test)\n",
    "pred_DT_train=regressor.predict(X_train)"
   ]
  },
  {
   "cell_type": "code",
   "execution_count": 77,
   "metadata": {
    "colab": {
     "base_uri": "https://localhost:8080/",
     "height": 34
    },
    "colab_type": "code",
    "id": "wojX5ee1Yyub",
    "outputId": "db18c0ce-111e-4d4b-ecb1-94c152ac3b49"
   },
   "outputs": [
    {
     "data": {
      "text/plain": [
       "12.400605236370676"
      ]
     },
     "execution_count": 77,
     "metadata": {},
     "output_type": "execute_result"
    }
   ],
   "source": [
    "# RMSE for training set\n",
    "np.sqrt(mean_squared_error(y_train,pred_DT_train))"
   ]
  },
  {
   "cell_type": "code",
   "execution_count": 78,
   "metadata": {
    "colab": {
     "base_uri": "https://localhost:8080/",
     "height": 34
    },
    "colab_type": "code",
    "id": "_T8VR0lpY9MI",
    "outputId": "0b102156-eea6-43cf-8016-e9f5165cd44d",
    "scrolled": true
   },
   "outputs": [
    {
     "data": {
      "text/plain": [
       "12.30064976324979"
      ]
     },
     "execution_count": 78,
     "metadata": {},
     "output_type": "execute_result"
    }
   ],
   "source": [
    "# RMSE for testing set\n",
    "np.sqrt(mean_squared_error(y_test,pred_DT_test))"
   ]
  },
  {
   "cell_type": "code",
   "execution_count": 79,
   "metadata": {
    "colab": {},
    "colab_type": "code",
    "id": "rpVa0Qs0iHKa"
   },
   "outputs": [],
   "source": [
    "from sklearn.metrics import r2_score"
   ]
  },
  {
   "cell_type": "code",
   "execution_count": 80,
   "metadata": {
    "colab": {
     "base_uri": "https://localhost:8080/",
     "height": 34
    },
    "colab_type": "code",
    "id": "frekxos4gy79",
    "outputId": "411b76fc-afae-4e02-dea7-a9c09a32636b"
   },
   "outputs": [
    {
     "data": {
      "text/plain": [
       "0.0578742239067882"
      ]
     },
     "execution_count": 80,
     "metadata": {},
     "output_type": "execute_result"
    }
   ],
   "source": [
    "# R-squared for DT\n",
    "r2_score(y_test, pred_DT_test)"
   ]
  },
  {
   "cell_type": "code",
   "execution_count": 81,
   "metadata": {
    "colab": {
     "base_uri": "https://localhost:8080/",
     "height": 136
    },
    "colab_type": "code",
    "id": "l2r-4NyXkAMK",
    "outputId": "65e139c0-e589-4ccf-c36d-1f99bd773c26"
   },
   "outputs": [
    {
     "data": {
      "text/plain": [
       "RandomForestRegressor(bootstrap=True, criterion='mse', max_depth=None,\n",
       "           max_features='auto', max_leaf_nodes=None,\n",
       "           min_impurity_decrease=0.0, min_impurity_split=None,\n",
       "           min_samples_leaf=1, min_samples_split=2,\n",
       "           min_weight_fraction_leaf=0.0, n_estimators=500, n_jobs=None,\n",
       "           oob_score=False, random_state=1, verbose=0, warm_start=False)"
      ]
     },
     "execution_count": 81,
     "metadata": {},
     "output_type": "execute_result"
    }
   ],
   "source": [
    "# Random Forest \n",
    "from sklearn.ensemble import RandomForestRegressor\n",
    "reg=RandomForestRegressor(n_estimators=500,random_state=1)\n",
    "reg.fit(X_train,y_train)"
   ]
  },
  {
   "cell_type": "code",
   "execution_count": 82,
   "metadata": {
    "colab": {},
    "colab_type": "code",
    "id": "aaMR-27imhTx"
   },
   "outputs": [],
   "source": [
    "# Predicting on training and testing set\n",
    "pred_RF_train=reg.predict(X_train)\n",
    "pred_RF_test=reg.predict(X_test)"
   ]
  },
  {
   "cell_type": "code",
   "execution_count": 83,
   "metadata": {
    "colab": {
     "base_uri": "https://localhost:8080/",
     "height": 34
    },
    "colab_type": "code",
    "id": "vaRrc7H4ZkiU",
    "outputId": "adcc647f-5870-46cc-b69b-2ba7ac3653a2"
   },
   "outputs": [
    {
     "data": {
      "text/plain": [
       "5.656788711545536"
      ]
     },
     "execution_count": 83,
     "metadata": {},
     "output_type": "execute_result"
    }
   ],
   "source": [
    "# RMSE on training set\n",
    "np.sqrt(mean_squared_error(y_train,pred_RF_train))"
   ]
  },
  {
   "cell_type": "code",
   "execution_count": 84,
   "metadata": {
    "colab": {
     "base_uri": "https://localhost:8080/",
     "height": 34
    },
    "colab_type": "code",
    "id": "C0v3ZiLXZlLG",
    "outputId": "eecda87f-22cd-4add-b569-33c79df9f876"
   },
   "outputs": [
    {
     "data": {
      "text/plain": [
       "12.622040505108775"
      ]
     },
     "execution_count": 84,
     "metadata": {},
     "output_type": "execute_result"
    }
   ],
   "source": [
    "# RMSE on testing set\n",
    "np.sqrt(mean_squared_error(y_test,pred_RF_test))"
   ]
  },
  {
   "cell_type": "code",
   "execution_count": 85,
   "metadata": {
    "colab": {
     "base_uri": "https://localhost:8080/",
     "height": 34
    },
    "colab_type": "code",
    "id": "sXN8ejRtmynF",
    "outputId": "fba766b9-5d30-4b48-c462-d64e7eeca4a1"
   },
   "outputs": [
    {
     "data": {
      "text/plain": [
       "0.007999435938828237"
      ]
     },
     "execution_count": 85,
     "metadata": {},
     "output_type": "execute_result"
    }
   ],
   "source": [
    "# R-squared for Random forest\n",
    "r2_score(y_test, pred_RF_test)"
   ]
  },
  {
   "cell_type": "code",
   "execution_count": 86,
   "metadata": {
    "colab": {
     "base_uri": "https://localhost:8080/",
     "height": 34
    },
    "colab_type": "code",
    "id": "Fp7ufkkDnN59",
    "outputId": "e98e41d4-bb7d-446a-a4ae-067940346fa5"
   },
   "outputs": [
    {
     "data": {
      "text/plain": [
       "LinearRegression(copy_X=True, fit_intercept=True, n_jobs=None,\n",
       "         normalize=False)"
      ]
     },
     "execution_count": 86,
     "metadata": {},
     "output_type": "execute_result"
    }
   ],
   "source": [
    "# Linear regression\n",
    "from sklearn.linear_model import LinearRegression\n",
    "reg=LinearRegression()\n",
    "reg.fit(X_train,y_train)"
   ]
  },
  {
   "cell_type": "code",
   "execution_count": 87,
   "metadata": {
    "colab": {},
    "colab_type": "code",
    "id": "cE-tQP1yn4kp"
   },
   "outputs": [],
   "source": [
    "# Predicting on training and testing set\n",
    "pred_LR_test=reg.predict(X_test)\n",
    "pred_LR_train=reg.predict(X_train)"
   ]
  },
  {
   "cell_type": "code",
   "execution_count": 88,
   "metadata": {
    "colab": {
     "base_uri": "https://localhost:8080/",
     "height": 34
    },
    "colab_type": "code",
    "id": "F_ZgqhtgoCxF",
    "outputId": "5813c9d7-3bc8-4875-f870-2e15174ff176"
   },
   "outputs": [
    {
     "data": {
      "text/plain": [
       "0.07969608561618569"
      ]
     },
     "execution_count": 88,
     "metadata": {},
     "output_type": "execute_result"
    }
   ],
   "source": [
    "# R squared for Linear Regression\n",
    "r2_score(y_test, pred_LR_test)"
   ]
  },
  {
   "cell_type": "code",
   "execution_count": 89,
   "metadata": {
    "colab": {
     "base_uri": "https://localhost:8080/",
     "height": 34
    },
    "colab_type": "code",
    "id": "JuuGgrOZakzK",
    "outputId": "67d0e715-bb3d-4da8-c65f-12f9d85991e2"
   },
   "outputs": [
    {
     "data": {
      "text/plain": [
       "11.57297818959483"
      ]
     },
     "execution_count": 89,
     "metadata": {},
     "output_type": "execute_result"
    }
   ],
   "source": [
    "# RMSE on Training set\n",
    "np.sqrt(mean_squared_error(y_train,pred_LR_train))"
   ]
  },
  {
   "cell_type": "code",
   "execution_count": 90,
   "metadata": {
    "colab": {
     "base_uri": "https://localhost:8080/",
     "height": 34
    },
    "colab_type": "code",
    "id": "jeoBlAKwaXzp",
    "outputId": "36ff3a8a-5c1e-44a4-c413-ce00694a85ae"
   },
   "outputs": [
    {
     "data": {
      "text/plain": [
       "12.157359090633411"
      ]
     },
     "execution_count": 90,
     "metadata": {},
     "output_type": "execute_result"
    }
   ],
   "source": [
    "# RMSE on testing set\n",
    "np.sqrt(mean_squared_error(y_test,pred_LR_test))"
   ]
  },
  {
   "cell_type": "code",
   "execution_count": 91,
   "metadata": {
    "colab": {},
    "colab_type": "code",
    "id": "Fd8SOk7gSDHw"
   },
   "outputs": [],
   "source": [
    "# XGBoost Regressor\n",
    "from sklearn.ensemble import GradientBoostingRegressor"
   ]
  },
  {
   "cell_type": "code",
   "execution_count": 92,
   "metadata": {
    "colab": {},
    "colab_type": "code",
    "id": "vsYV4TqdSDFW"
   },
   "outputs": [],
   "source": [
    "# Training the algorithm\n",
    "fit_GB = GradientBoostingRegressor().fit(X_train, y_train)"
   ]
  },
  {
   "cell_type": "code",
   "execution_count": 93,
   "metadata": {
    "colab": {},
    "colab_type": "code",
    "id": "i-oU1UKwSDDC"
   },
   "outputs": [],
   "source": [
    "# Predicting and calculating RMSE on training set\n",
    "pred_train = fit_GB.predict(X_train)\n",
    "rmse_for_train = np.sqrt(mean_squared_error(y_train,pred_train))"
   ]
  },
  {
   "cell_type": "code",
   "execution_count": 94,
   "metadata": {
    "colab": {
     "base_uri": "https://localhost:8080/",
     "height": 34
    },
    "colab_type": "code",
    "id": "Bm3mOHdrSmXc",
    "outputId": "e1f5a8e3-44c2-4117-ef2f-d8d2f1edc897"
   },
   "outputs": [
    {
     "data": {
      "text/plain": [
       "6.895523239048484"
      ]
     },
     "execution_count": 94,
     "metadata": {},
     "output_type": "execute_result"
    }
   ],
   "source": [
    "# RMSE on training set\n",
    "rmse_for_train"
   ]
  },
  {
   "cell_type": "code",
   "execution_count": 95,
   "metadata": {
    "colab": {},
    "colab_type": "code",
    "id": "PaUvS2IWSDAU"
   },
   "outputs": [],
   "source": [
    "# Predicting on test set\n",
    "pred_test = fit_GB.predict(X_test)\n",
    "rmse_for_test =np.sqrt(mean_squared_error(y_test,pred_test))"
   ]
  },
  {
   "cell_type": "code",
   "execution_count": 96,
   "metadata": {
    "colab": {
     "base_uri": "https://localhost:8080/",
     "height": 34
    },
    "colab_type": "code",
    "id": "GOMFBv1pSrqp",
    "outputId": "f435a001-7b63-4fef-9520-a4c01cb4f085"
   },
   "outputs": [
    {
     "data": {
      "text/plain": [
       "12.974901524714975"
      ]
     },
     "execution_count": 96,
     "metadata": {},
     "output_type": "execute_result"
    }
   ],
   "source": [
    "# RMSE on testing set\n",
    "rmse_for_test"
   ]
  },
  {
   "cell_type": "code",
   "execution_count": 97,
   "metadata": {
    "colab": {
     "base_uri": "https://localhost:8080/",
     "height": 34
    },
    "colab_type": "code",
    "id": "bhhpE30MSC81",
    "outputId": "0147b882-c61e-4fa4-f9e6-4400fbfe4197"
   },
   "outputs": [
    {
     "data": {
      "text/plain": [
       "-0.0482404653350621"
      ]
     },
     "execution_count": 97,
     "metadata": {},
     "output_type": "execute_result"
    }
   ],
   "source": [
    "# R squared for XGBoost Regressor\n",
    "r2_score(y_test,pred_test)"
   ]
  },
  {
   "cell_type": "code",
   "execution_count": 98,
   "metadata": {
    "colab": {},
    "colab_type": "code",
    "id": "QlcskrSNDxN1"
   },
   "outputs": [],
   "source": [
    "y=d1_new['Absenteeism time in hours']"
   ]
  },
  {
   "cell_type": "code",
   "execution_count": 99,
   "metadata": {
    "colab": {
     "base_uri": "https://localhost:8080/",
     "height": 34
    },
    "colab_type": "code",
    "id": "ojMjsO0WC2f3",
    "outputId": "d71fefcb-fca4-48bb-b8de-3a3d92eb10cc"
   },
   "outputs": [
    {
     "data": {
      "text/plain": [
       "(740, 58)"
      ]
     },
     "execution_count": 99,
     "metadata": {},
     "output_type": "execute_result"
    }
   ],
   "source": [
    "d1_new.drop(['Absenteeism time in hours'], inplace = True, axis=1)\n",
    "d1_new.shape"
   ]
  },
  {
   "cell_type": "code",
   "execution_count": 100,
   "metadata": {
    "colab": {},
    "colab_type": "code",
    "id": "wPDALHW7xr2C"
   },
   "outputs": [],
   "source": [
    "# Support Vector Regressor\n",
    "from sklearn.svm import SVR\n",
    "regressor=SVR(kernel='linear')\n",
    "regressor.fit(X_train,y_train)\n",
    "y_pred_train=regressor.predict(X_train)\n",
    "y_pred_test=regressor.predict(X_test)"
   ]
  },
  {
   "cell_type": "code",
   "execution_count": 101,
   "metadata": {
    "colab": {},
    "colab_type": "code",
    "id": "CtArSrmVxr2J"
   },
   "outputs": [],
   "source": [
    "# RMSE on training set\n",
    "rmse_for_train =np.sqrt(mean_squared_error(y_train,y_pred_train))"
   ]
  },
  {
   "cell_type": "code",
   "execution_count": 102,
   "metadata": {
    "colab": {},
    "colab_type": "code",
    "id": "egy3wtkixr2M"
   },
   "outputs": [],
   "source": [
    "# RMSE on testing set\n",
    "rmse_for_test =np.sqrt(mean_squared_error(y_test,y_pred_test))"
   ]
  },
  {
   "cell_type": "code",
   "execution_count": 103,
   "metadata": {
    "colab": {
     "base_uri": "https://localhost:8080/",
     "height": 34
    },
    "colab_type": "code",
    "id": "11Cx4l5Gxr2P",
    "outputId": "26f55932-34de-45de-8aba-ce00f1acc8a2"
   },
   "outputs": [
    {
     "data": {
      "text/plain": [
       "0.0729599210943197"
      ]
     },
     "execution_count": 103,
     "metadata": {},
     "output_type": "execute_result"
    }
   ],
   "source": [
    "# R squared for SVR\n",
    "r2_score(y_test,y_pred_test)"
   ]
  },
  {
   "cell_type": "code",
   "execution_count": 104,
   "metadata": {
    "colab": {
     "base_uri": "https://localhost:8080/",
     "height": 34
    },
    "colab_type": "code",
    "id": "ZuOo8ENqxr2T",
    "outputId": "104892a0-9721-45d7-94da-336fc0f089f4"
   },
   "outputs": [
    {
     "data": {
      "text/plain": [
       "13.0240643593201"
      ]
     },
     "execution_count": 104,
     "metadata": {},
     "output_type": "execute_result"
    }
   ],
   "source": [
    "# RMSE on training set\n",
    "rmse_for_train"
   ]
  },
  {
   "cell_type": "code",
   "execution_count": 105,
   "metadata": {
    "colab": {
     "base_uri": "https://localhost:8080/",
     "height": 34
    },
    "colab_type": "code",
    "id": "yN2xvKE_yCQb",
    "outputId": "0de742ae-360b-4caf-dd9b-4a7af25e384f"
   },
   "outputs": [
    {
     "data": {
      "text/plain": [
       "12.201770865872033"
      ]
     },
     "execution_count": 105,
     "metadata": {},
     "output_type": "execute_result"
    }
   ],
   "source": [
    "# RMSE on testing set\n",
    "rmse_for_test"
   ]
  },
  {
   "cell_type": "code",
   "execution_count": 106,
   "metadata": {
    "colab": {
     "base_uri": "https://localhost:8080/",
     "height": 34
    },
    "colab_type": "code",
    "id": "uYRSR66ABLzE",
    "outputId": "cbce41a4-bde2-47d0-83bd-f01922d3e281"
   },
   "outputs": [
    {
     "data": {
      "text/plain": [
       "(740, 58)"
      ]
     },
     "execution_count": 106,
     "metadata": {},
     "output_type": "execute_result"
    }
   ],
   "source": [
    "# Checking the shape of existing data\n",
    "d1_new.shape"
   ]
  },
  {
   "cell_type": "code",
   "execution_count": 107,
   "metadata": {
    "colab": {
     "base_uri": "https://localhost:8080/",
     "height": 357
    },
    "colab_type": "code",
    "id": "Or464n_3AxO1",
    "outputId": "6da98853-3ed7-486b-8518-4185a25f8ec0"
   },
   "outputs": [
    {
     "data": {
      "text/plain": [
       "Index(['ID', 'Transportation expense', 'Distance from Residence to Work',\n",
       "       'Service time', 'Age', 'Work load Average/day ', 'Hit target', 'Height',\n",
       "       'Body mass index', 'Reason for absence_1', 'Reason for absence_10',\n",
       "       'Reason for absence_11', 'Reason for absence_12',\n",
       "       'Reason for absence_13', 'Reason for absence_14',\n",
       "       'Reason for absence_15', 'Reason for absence_16',\n",
       "       'Reason for absence_17', 'Reason for absence_18',\n",
       "       'Reason for absence_19', 'Reason for absence_2',\n",
       "       'Reason for absence_21', 'Reason for absence_22',\n",
       "       'Reason for absence_23', 'Reason for absence_24',\n",
       "       'Reason for absence_25', 'Reason for absence_26',\n",
       "       'Reason for absence_27', 'Reason for absence_28',\n",
       "       'Reason for absence_3', 'Reason for absence_4', 'Reason for absence_5',\n",
       "       'Reason for absence_6', 'Reason for absence_7', 'Reason for absence_8',\n",
       "       'Reason for absence_9', 'Education_2', 'Education_3', 'Education_4',\n",
       "       'Social drinker_1', 'Social smoker_1', 'Seasons_2', 'Seasons_3',\n",
       "       'Seasons_4', 'Disciplinary failure_1', 'Day of the week_3',\n",
       "       'Day of the week_4', 'Day of the week_5', 'Day of the week_6', 'Pet_1',\n",
       "       'Pet_2', 'Pet_4', 'Pet_5', 'Pet_8', 'Son_1', 'Son_2', 'Son_3', 'Son_4'],\n",
       "      dtype='object')"
      ]
     },
     "execution_count": 107,
     "metadata": {},
     "output_type": "execute_result"
    }
   ],
   "source": [
    "d1_new.columns"
   ]
  },
  {
   "cell_type": "code",
   "execution_count": 108,
   "metadata": {
    "colab": {},
    "colab_type": "code",
    "id": "sMbcpqm6Aw2k"
   },
   "outputs": [],
   "source": [
    "X=d1_new[['Transportation expense', 'Distance from Residence to Work',\n",
    "       'Service time', 'Age', 'Work load Average/day ', 'Hit target', 'Height',\n",
    "       'Body mass index', 'Reason for absence_1', 'Reason for absence_10',\n",
    "       'Reason for absence_11', 'Reason for absence_12',\n",
    "       'Reason for absence_13', 'Reason for absence_14',\n",
    "       'Reason for absence_15', 'Reason for absence_16',\n",
    "       'Reason for absence_17', 'Reason for absence_18',\n",
    "       'Reason for absence_19', 'Reason for absence_2',\n",
    "       'Reason for absence_21', 'Reason for absence_22',\n",
    "       'Reason for absence_23', 'Reason for absence_24',\n",
    "       'Reason for absence_25', 'Reason for absence_26',\n",
    "       'Reason for absence_27', 'Reason for absence_28',\n",
    "       'Reason for absence_3', 'Reason for absence_4', 'Reason for absence_5',\n",
    "       'Reason for absence_6', 'Reason for absence_7', 'Reason for absence_8',\n",
    "       'Reason for absence_9', 'Education_2', 'Education_3', 'Education_4',\n",
    "       'Social drinker_1', 'Social smoker_1', 'Seasons_2', 'Seasons_3',\n",
    "       'Seasons_4', 'Disciplinary failure_1', 'Day of the week_3',\n",
    "       'Day of the week_4', 'Day of the week_5', 'Day of the week_6', 'Pet_1',\n",
    "       'Pet_2', 'Pet_4', 'Pet_5', 'Pet_8', 'Son_1', 'Son_2', 'Son_3', 'Son_4']]"
   ]
  },
  {
   "cell_type": "code",
   "execution_count": 0,
   "metadata": {
    "colab": {
     "base_uri": "https://localhost:8080/",
     "height": 34
    },
    "colab_type": "code",
    "id": "ErRMyTjgAjLb",
    "outputId": "b9f6244a-80eb-48ab-e1f2-16f4c7c03cf9"
   },
   "outputs": [
    {
     "data": {
      "text/plain": [
       "pandas.core.frame.DataFrame"
      ]
     },
     "execution_count": 114,
     "metadata": {
      "tags": []
     },
     "output_type": "execute_result"
    }
   ],
   "source": [
    "type(X)"
   ]
  },
  {
   "cell_type": "code",
   "execution_count": 0,
   "metadata": {
    "colab": {
     "base_uri": "https://localhost:8080/",
     "height": 265
    },
    "colab_type": "code",
    "id": "jxa1RdhrB7aF",
    "outputId": "82277529-a0f2-4173-cffa-08aa6d9efb18"
   },
   "outputs": [
    {
     "data": {
      "image/png": "[encoded data removed]",
      "text/plain": [
       "<Figure size 432x288 with 1 Axes>"
      ]
     },
     "metadata": {
      "tags": []
     },
     "output_type": "display_data"
    }
   ],
   "source": [
    "# Principal Component Analysis for reducing the number of variables.\n",
    "from sklearn.decomposition import PCA\n",
    "\n",
    "# Converting data to numpy array\n",
    "X = X.values\n",
    "\n",
    "# Data has 57 variables so no of components of PCA = 57\n",
    "pca = PCA(n_components=57)\n",
    "pca.fit(X)\n",
    "\n",
    "# The amount of variance that each PC explains\n",
    "var= pca.explained_variance_ratio_\n",
    "\n",
    "# Cumulative Variance explains\n",
    "var1=np.cumsum(np.round(pca.explained_variance_ratio_, decimals=4)*100)\n",
    "\n",
    "plt.plot(var1)\n",
    "plt.show()"
   ]
  },
  {
   "cell_type": "code",
   "execution_count": 0,
   "metadata": {
    "colab": {},
    "colab_type": "code",
    "id": "-B-TjHhwCUAB"
   },
   "outputs": [],
   "source": [
    "# As 20 components explain 95%+ values so taking n_components = 20\n",
    "pca = PCA(n_components=20)\n",
    "X=pca.fit_transform(X)\n",
    "explained_variance=pca.explained_variance_ratio_\n",
    "explained_variance\n",
    "\n",
    "# Using train_test_split sampling function for test and train data split\n",
    "X_train, X_test, y_train, y_test = train_test_split(X,y, test_size=0.2)"
   ]
  },
  {
   "cell_type": "code",
   "execution_count": 0,
   "metadata": {
    "colab": {
     "base_uri": "https://localhost:8080/",
     "height": 34
    },
    "colab_type": "code",
    "id": "tpWxnbdBslFM",
    "outputId": "ef6163ee-2ba6-4d45-d8e1-7f591221cf96"
   },
   "outputs": [
    {
     "data": {
      "text/plain": [
       "(740, 20)"
      ]
     },
     "execution_count": 117,
     "metadata": {
      "tags": []
     },
     "output_type": "execute_result"
    }
   ],
   "source": [
    "X.shape"
   ]
  },
  {
   "cell_type": "code",
   "execution_count": 0,
   "metadata": {
    "colab": {
     "base_uri": "https://localhost:8080/",
     "height": 102
    },
    "colab_type": "code",
    "id": "o-3WYRQwFCrF",
    "outputId": "2803d5ad-6f32-49e7-ee26-f3c6a99e2b67"
   },
   "outputs": [
    {
     "data": {
      "text/plain": [
       "DecisionTreeRegressor(criterion='mse', max_depth=2, max_features=None,\n",
       "                      max_leaf_nodes=None, min_impurity_decrease=0.0,\n",
       "                      min_impurity_split=None, min_samples_leaf=1,\n",
       "                      min_samples_split=2, min_weight_fraction_leaf=0.0,\n",
       "                      presort=False, random_state=1, splitter='best')"
      ]
     },
     "execution_count": 118,
     "metadata": {
      "tags": []
     },
     "output_type": "execute_result"
    }
   ],
   "source": [
    "# Decision Tree after PCA\n",
    "regressor = DecisionTreeRegressor(random_state=1,max_depth=2)\n",
    "regressor.fit(X_train, y_train)"
   ]
  },
  {
   "cell_type": "code",
   "execution_count": 0,
   "metadata": {
    "colab": {},
    "colab_type": "code",
    "id": "zlwKuiWDFCrM"
   },
   "outputs": [],
   "source": [
    "# Predicting the results\n",
    "pred_DT_test=regressor.predict(X_test)\n",
    "pred_DT_train=regressor.predict(X_train)"
   ]
  },
  {
   "cell_type": "code",
   "execution_count": 0,
   "metadata": {
    "colab": {
     "base_uri": "https://localhost:8080/",
     "height": 34
    },
    "colab_type": "code",
    "id": "9t8StpKPFCrP",
    "outputId": "7acd354b-8313-4564-94f1-2af355ca72f2"
   },
   "outputs": [
    {
     "data": {
      "text/plain": [
       "11.27429342028231"
      ]
     },
     "execution_count": 120,
     "metadata": {
      "tags": []
     },
     "output_type": "execute_result"
    }
   ],
   "source": [
    "# RMSE on training set\n",
    "np.sqrt(mean_squared_error(y_train,pred_DT_train))"
   ]
  },
  {
   "cell_type": "code",
   "execution_count": 0,
   "metadata": {
    "colab": {
     "base_uri": "https://localhost:8080/",
     "height": 34
    },
    "colab_type": "code",
    "id": "onSrZoKIFCrU",
    "outputId": "edadc253-b671-4b8c-d7ae-39bca6f65cc2"
   },
   "outputs": [
    {
     "data": {
      "text/plain": [
       "17.18050955357233"
      ]
     },
     "execution_count": 121,
     "metadata": {
      "tags": []
     },
     "output_type": "execute_result"
    }
   ],
   "source": [
    "# RMSE on testing set\n",
    "np.sqrt(mean_squared_error(y_test,pred_DT_test))"
   ]
  },
  {
   "cell_type": "code",
   "execution_count": 0,
   "metadata": {
    "colab": {
     "base_uri": "https://localhost:8080/",
     "height": 34
    },
    "colab_type": "code",
    "id": "xj-Bp0s_FCrb",
    "outputId": "fb9ca65c-38b2-4e2d-dadd-e883e6b62abf"
   },
   "outputs": [
    {
     "data": {
      "text/plain": [
       "-0.14653483834785486"
      ]
     },
     "execution_count": 122,
     "metadata": {
      "tags": []
     },
     "output_type": "execute_result"
    }
   ],
   "source": [
    "# R squared for Decision Tree after PCA\n",
    "r2_score(y_test, pred_DT_test)"
   ]
  },
  {
   "cell_type": "code",
   "execution_count": 0,
   "metadata": {
    "colab": {
     "base_uri": "https://localhost:8080/",
     "height": 136
    },
    "colab_type": "code",
    "id": "hvUIa4-mhHMi",
    "outputId": "36c94869-ca5d-4afc-bf34-f3359760672b"
   },
   "outputs": [
    {
     "data": {
      "text/plain": [
       "RandomForestRegressor(bootstrap=True, criterion='mse', max_depth=None,\n",
       "                      max_features='auto', max_leaf_nodes=None,\n",
       "                      min_impurity_decrease=0.0, min_impurity_split=None,\n",
       "                      min_samples_leaf=1, min_samples_split=2,\n",
       "                      min_weight_fraction_leaf=0.0, n_estimators=500,\n",
       "                      n_jobs=None, oob_score=False, random_state=None,\n",
       "                      verbose=0, warm_start=False)"
      ]
     },
     "execution_count": 123,
     "metadata": {
      "tags": []
     },
     "output_type": "execute_result"
    }
   ],
   "source": [
    "# Random Forest after PCA\n",
    "reg=RandomForestRegressor(n_estimators=500)\n",
    "reg.fit(X_train,y_train)"
   ]
  },
  {
   "cell_type": "code",
   "execution_count": 0,
   "metadata": {
    "colab": {},
    "colab_type": "code",
    "id": "URwEqsy4hGrd"
   },
   "outputs": [],
   "source": [
    "# Predicting the results\n",
    "pred_RF_train=reg.predict(X_train)\n",
    "pred_RF_test=reg.predict(X_test)"
   ]
  },
  {
   "cell_type": "code",
   "execution_count": 0,
   "metadata": {
    "colab": {
     "base_uri": "https://localhost:8080/",
     "height": 34
    },
    "colab_type": "code",
    "id": "KryPAxvehGo9",
    "outputId": "111ea552-59e2-475f-d1db-90fe80359d14"
   },
   "outputs": [
    {
     "data": {
      "text/plain": [
       "4.942491702795511"
      ]
     },
     "execution_count": 125,
     "metadata": {
      "tags": []
     },
     "output_type": "execute_result"
    }
   ],
   "source": [
    "# RMSE on training set\n",
    "np.sqrt(mean_squared_error(y_train,pred_RF_train))"
   ]
  },
  {
   "cell_type": "code",
   "execution_count": 0,
   "metadata": {
    "colab": {
     "base_uri": "https://localhost:8080/",
     "height": 34
    },
    "colab_type": "code",
    "id": "kXPQEsD7hGlU",
    "outputId": "cef593da-cc9b-4910-82ae-ce02242221ad"
   },
   "outputs": [
    {
     "data": {
      "text/plain": [
       "15.812776720900821"
      ]
     },
     "execution_count": 126,
     "metadata": {
      "tags": []
     },
     "output_type": "execute_result"
    }
   ],
   "source": [
    "# RMSE on testing set\n",
    "np.sqrt(mean_squared_error(y_test,pred_RF_test))"
   ]
  },
  {
   "cell_type": "code",
   "execution_count": 0,
   "metadata": {
    "colab": {
     "base_uri": "https://localhost:8080/",
     "height": 34
    },
    "colab_type": "code",
    "id": "LRo8fyJIhGdS",
    "outputId": "44aa37d3-437d-4851-a3aa-2644567ad052"
   },
   "outputs": [
    {
     "data": {
      "text/plain": [
       "0.02874905966587138"
      ]
     },
     "execution_count": 127,
     "metadata": {
      "tags": []
     },
     "output_type": "execute_result"
    }
   ],
   "source": [
    "# R squared for Random FOrest after PCA\n",
    "r2_score(y_test, pred_RF_test)"
   ]
  },
  {
   "cell_type": "code",
   "execution_count": 0,
   "metadata": {
    "colab": {
     "base_uri": "https://localhost:8080/",
     "height": 34
    },
    "colab_type": "code",
    "id": "EP2aNimcFCr8",
    "outputId": "197ac663-9469-4347-e321-f6071175722c"
   },
   "outputs": [
    {
     "data": {
      "text/plain": [
       "LinearRegression(copy_X=True, fit_intercept=True, n_jobs=None, normalize=False)"
      ]
     },
     "execution_count": 128,
     "metadata": {
      "tags": []
     },
     "output_type": "execute_result"
    }
   ],
   "source": [
    "# Linear regression after PCA\n",
    "reg=LinearRegression()\n",
    "reg.fit(X_train,y_train)"
   ]
  },
  {
   "cell_type": "code",
   "execution_count": 0,
   "metadata": {
    "colab": {},
    "colab_type": "code",
    "id": "KPLj9iOpFCr-"
   },
   "outputs": [],
   "source": [
    "# Predicting the results\n",
    "pred_LR_test=reg.predict(X_test)\n",
    "pred_LR_train=reg.predict(X_train)"
   ]
  },
  {
   "cell_type": "code",
   "execution_count": 0,
   "metadata": {
    "colab": {
     "base_uri": "https://localhost:8080/",
     "height": 34
    },
    "colab_type": "code",
    "id": "9TnV-5IIFCsA",
    "outputId": "69995599-68f3-45d2-98b6-7eb58eb49048"
   },
   "outputs": [
    {
     "data": {
      "text/plain": [
       "0.11275517354688935"
      ]
     },
     "execution_count": 130,
     "metadata": {
      "tags": []
     },
     "output_type": "execute_result"
    }
   ],
   "source": [
    "# R squared on Linear Regression after PCA\n",
    "r2_score(y_test, pred_LR_test)"
   ]
  },
  {
   "cell_type": "code",
   "execution_count": 0,
   "metadata": {
    "colab": {
     "base_uri": "https://localhost:8080/",
     "height": 34
    },
    "colab_type": "code",
    "id": "oK88Z83vFCsE",
    "outputId": "e61f3503-8456-4ae1-d0d3-fe58610b1386"
   },
   "outputs": [
    {
     "data": {
      "text/plain": [
       "11.67197382868209"
      ]
     },
     "execution_count": 131,
     "metadata": {
      "tags": []
     },
     "output_type": "execute_result"
    }
   ],
   "source": [
    "# RMSE on training set\n",
    "np.sqrt(mean_squared_error(y_train,pred_LR_train))"
   ]
  },
  {
   "cell_type": "code",
   "execution_count": 0,
   "metadata": {
    "colab": {
     "base_uri": "https://localhost:8080/",
     "height": 34
    },
    "colab_type": "code",
    "id": "seg-yBO8FCsG",
    "outputId": "6179da17-2862-46cc-efd4-d4592c3f2542"
   },
   "outputs": [
    {
     "data": {
      "text/plain": [
       "15.113468679785036"
      ]
     },
     "execution_count": 132,
     "metadata": {
      "tags": []
     },
     "output_type": "execute_result"
    }
   ],
   "source": [
    "# RMSE on testing set\n",
    "np.sqrt(mean_squared_error(y_test,pred_LR_test))"
   ]
  },
  {
   "cell_type": "code",
   "execution_count": 0,
   "metadata": {
    "colab": {},
    "colab_type": "code",
    "id": "3eegt1afFCsM"
   },
   "outputs": [],
   "source": [
    "# XGBoost Regressor after PCA\n",
    "fit_GB = GradientBoostingRegressor().fit(X_train, y_train)"
   ]
  },
  {
   "cell_type": "code",
   "execution_count": 0,
   "metadata": {
    "colab": {},
    "colab_type": "code",
    "id": "SRa1qQYmFCsP"
   },
   "outputs": [],
   "source": [
    "# PRedicting the results\n",
    "pred_train = fit_GB.predict(X_train)\n",
    "rmse_for_train = np.sqrt(mean_squared_error(y_train,pred_train))"
   ]
  },
  {
   "cell_type": "code",
   "execution_count": 0,
   "metadata": {
    "colab": {
     "base_uri": "https://localhost:8080/",
     "height": 34
    },
    "colab_type": "code",
    "id": "iJPQsmWQFCsQ",
    "outputId": "ec1b4f9b-22c0-4d51-d9a9-cec9b77af1db"
   },
   "outputs": [
    {
     "data": {
      "text/plain": [
       "4.35419938986703"
      ]
     },
     "execution_count": 135,
     "metadata": {
      "tags": []
     },
     "output_type": "execute_result"
    }
   ],
   "source": [
    "# RMSE on training set\n",
    "rmse_for_train"
   ]
  },
  {
   "cell_type": "code",
   "execution_count": 0,
   "metadata": {
    "colab": {},
    "colab_type": "code",
    "id": "rCu3AIXRFCsS"
   },
   "outputs": [],
   "source": [
    "pred_test = fit_GB.predict(X_test)\n",
    "rmse_for_test =np.sqrt(mean_squared_error(y_test,pred_test))"
   ]
  },
  {
   "cell_type": "code",
   "execution_count": 0,
   "metadata": {
    "colab": {
     "base_uri": "https://localhost:8080/",
     "height": 34
    },
    "colab_type": "code",
    "id": "dcGAkijYFCsU",
    "outputId": "57170e1f-6c63-416c-8acc-839771c30df6"
   },
   "outputs": [
    {
     "data": {
      "text/plain": [
       "16.915124749540052"
      ]
     },
     "execution_count": 137,
     "metadata": {
      "tags": []
     },
     "output_type": "execute_result"
    }
   ],
   "source": [
    "# RMSE on testing set\n",
    "rmse_for_test"
   ]
  },
  {
   "cell_type": "code",
   "execution_count": 0,
   "metadata": {
    "colab": {
     "base_uri": "https://localhost:8080/",
     "height": 34
    },
    "colab_type": "code",
    "id": "OgiTGg84FCDy",
    "outputId": "4ef65d9d-26bc-49b9-c2eb-6343d2747178"
   },
   "outputs": [
    {
     "data": {
      "text/plain": [
       "-0.1113876975831114"
      ]
     },
     "execution_count": 138,
     "metadata": {
      "tags": []
     },
     "output_type": "execute_result"
    }
   ],
   "source": [
    "# R squared on XGBoost after PCA\n",
    "r2_score(y_test,pred_test)"
   ]
  },
  {
   "cell_type": "code",
   "execution_count": 0,
   "metadata": {
    "colab": {
     "base_uri": "https://localhost:8080/",
     "height": 34
    },
    "colab_type": "code",
    "id": "Ce_IA6DmKOIS",
    "outputId": "72af9a7a-68ef-499c-8a65-ec62304211ba"
   },
   "outputs": [
    {
     "data": {
      "text/plain": [
       "(740, 20)"
      ]
     },
     "execution_count": 139,
     "metadata": {
      "tags": []
     },
     "output_type": "execute_result"
    }
   ],
   "source": [
    "X.shape"
   ]
  },
  {
   "cell_type": "code",
   "execution_count": 0,
   "metadata": {
    "colab": {},
    "colab_type": "code",
    "id": "DUr2g1vpJUOP"
   },
   "outputs": [],
   "source": [
    "# SVR after PCA\n",
    "regressor=SVR(kernel='linear')\n",
    "regressor.fit(X_train,y_train)\n",
    "y_pred_train=regressor.predict(X_train)\n",
    "y_pred_test=regressor.predict(X_test)"
   ]
  },
  {
   "cell_type": "code",
   "execution_count": 0,
   "metadata": {
    "colab": {},
    "colab_type": "code",
    "id": "BgerMMTFQpa7"
   },
   "outputs": [],
   "source": [
    "rmse_for_train =np.sqrt(mean_squared_error(y_train,y_pred_train))"
   ]
  },
  {
   "cell_type": "code",
   "execution_count": 0,
   "metadata": {
    "colab": {},
    "colab_type": "code",
    "id": "1u6l36zoQpPs"
   },
   "outputs": [],
   "source": [
    "rmse_for_test =np.sqrt(mean_squared_error(y_test,y_pred_test))"
   ]
  },
  {
   "cell_type": "code",
   "execution_count": 0,
   "metadata": {
    "colab": {
     "base_uri": "https://localhost:8080/",
     "height": 34
    },
    "colab_type": "code",
    "id": "yw5KpIkkKkcY",
    "outputId": "51914528-44c0-4b53-8d2a-3ffddb03c745"
   },
   "outputs": [
    {
     "data": {
      "text/plain": [
       "0.018662295999574585"
      ]
     },
     "execution_count": 143,
     "metadata": {
      "tags": []
     },
     "output_type": "execute_result"
    }
   ],
   "source": [
    "# R squared on SVR after PCA\n",
    "r2_score(y_test,y_pred_test)"
   ]
  },
  {
   "cell_type": "code",
   "execution_count": 0,
   "metadata": {
    "colab": {
     "base_uri": "https://localhost:8080/",
     "height": 34
    },
    "colab_type": "code",
    "id": "b70agCiHRYmc",
    "outputId": "6a219052-ad2b-4b2b-fc31-06858107efa8"
   },
   "outputs": [
    {
     "data": {
      "text/plain": [
       "12.21530543879675"
      ]
     },
     "execution_count": 144,
     "metadata": {
      "tags": []
     },
     "output_type": "execute_result"
    }
   ],
   "source": [
    "# RMSE on training set\n",
    "rmse_for_train"
   ]
  },
  {
   "cell_type": "code",
   "execution_count": 0,
   "metadata": {
    "colab": {
     "base_uri": "https://localhost:8080/",
     "height": 34
    },
    "colab_type": "code",
    "id": "2yB1pG1zRb0I",
    "outputId": "4410690b-9233-44f3-d14a-d6e967327a3e"
   },
   "outputs": [
    {
     "data": {
      "text/plain": [
       "15.894675104282145"
      ]
     },
     "execution_count": 145,
     "metadata": {
      "tags": []
     },
     "output_type": "execute_result"
    }
   ],
   "source": [
    "# RMSE on testing set\n",
    "rmse_for_test"
   ]
  }
 ],
 "metadata": {
  "accelerator": "GPU",
  "colab": {
   "collapsed_sections": [],
   "name": "Absenteeism Project.ipynb",
   "provenance": []
  },
  "kernelspec": {
   "display_name": "Python 3",
   "language": "python",
   "name": "python3"
  },
  "language_info": {
   "codemirror_mode": {
    "name": "ipython",
    "version": 3
   },
   "file_extension": ".py",
   "mimetype": "text/x-python",
   "name": "python",
   "nbconvert_exporter": "python",
   "pygments_lexer": "ipython3",
   "version": "3.6.7"
  }
 },
 "nbformat": 4,
 "nbformat_minor": 1
}
